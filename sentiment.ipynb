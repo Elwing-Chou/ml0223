{
  "nbformat": 4,
  "nbformat_minor": 0,
  "metadata": {
    "colab": {
      "name": "sentiment.ipynb",
      "private_outputs": true,
      "provenance": [],
      "authorship_tag": "ABX9TyP+AKeSVsNtsT1MyxKlUe9n",
      "include_colab_link": true
    },
    "kernelspec": {
      "name": "python3",
      "display_name": "Python 3"
    },
    "language_info": {
      "name": "python"
    },
    "accelerator": "GPU"
  },
  "cells": [
    {
      "cell_type": "markdown",
      "metadata": {
        "id": "view-in-github",
        "colab_type": "text"
      },
      "source": [
        "<a href=\"https://colab.research.google.com/github/Elwing-Chou/ml0223/blob/main/sentiment.ipynb\" target=\"_parent\"><img src=\"https://colab.research.google.com/assets/colab-badge.svg\" alt=\"Open In Colab\"/></a>"
      ]
    },
    {
      "cell_type": "code",
      "metadata": {
        "id": "pVXzvvyDIm8A"
      },
      "source": [
        "import tensorflow as tf\n",
        "\n",
        "dataset = tf.keras.utils.get_file(\n",
        "    fname=\"aclImdb.tar.gz\", \n",
        "    origin=\"http://ai.stanford.edu/~amaas/data/sentiment/aclImdb_v1.tar.gz\", \n",
        "    extract=True,\n",
        ")"
      ],
      "execution_count": null,
      "outputs": []
    },
    {
      "cell_type": "code",
      "metadata": {
        "id": "4gIfUmfAKD4B"
      },
      "source": [
        "import glob\n",
        "import os\n",
        "dn = os.path.dirname(dataset)\n",
        "fn = glob.glob(dn + \"/aclImdb/train/pos/*\")\n",
        "with open(fn[0], \"r\", encoding=\"utf-8\") as f:\n",
        "    print(\"pos:\", f.read())\n",
        "fn = glob.glob(dn + \"/aclImdb/train/neg/*\")\n",
        "with open(fn[0], \"r\", encoding=\"utf-8\") as f:\n",
        "    print(\"neg:\", f.read())"
      ],
      "execution_count": null,
      "outputs": []
    },
    {
      "cell_type": "code",
      "metadata": {
        "id": "_KSyOhByN3IV"
      },
      "source": [
        "import pandas as pd\n",
        "def getdata(base):\n",
        "    datas = {\"article\":[], \"ans\":[]}\n",
        "    targets = os.path.join(base, \"pos\", \"*\")\n",
        "    for fn in glob.glob(targets):\n",
        "        with open(fn, \"r\", encoding=\"utf-8\") as f:\n",
        "            datas[\"article\"].append(f.read())\n",
        "            datas[\"ans\"].append(1)\n",
        "    targets = os.path.join(base, \"neg\", \"*\")\n",
        "    for fn in glob.glob(targets):\n",
        "        with open(fn, \"r\", encoding=\"utf-8\") as f:\n",
        "            datas[\"article\"].append(f.read())\n",
        "            datas[\"ans\"].append(0)\n",
        "    return pd.DataFrame(datas)\n",
        "train = os.path.join(dn, \"aclImdb\", \"train\")\n",
        "train_df = getdata(train)\n",
        "test = os.path.join(dn, \"aclImdb\", \"test\")\n",
        "test_df = getdata(test)"
      ],
      "execution_count": null,
      "outputs": []
    },
    {
      "cell_type": "code",
      "metadata": {
        "id": "CivCTri3OsWx"
      },
      "source": [
        "test_df"
      ],
      "execution_count": null,
      "outputs": []
    }
  ]
}