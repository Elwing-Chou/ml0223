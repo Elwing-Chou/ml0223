{
  "nbformat": 4,
  "nbformat_minor": 0,
  "metadata": {
    "colab": {
      "name": "regression.ipynb",
      "private_outputs": true,
      "provenance": [],
      "authorship_tag": "ABX9TyOp6+USoRP9zrE2I1UzSP+z",
      "include_colab_link": true
    },
    "kernelspec": {
      "name": "python3",
      "display_name": "Python 3"
    }
  },
  "cells": [
    {
      "cell_type": "markdown",
      "metadata": {
        "id": "view-in-github",
        "colab_type": "text"
      },
      "source": [
        "<a href=\"https://colab.research.google.com/github/Elwing-Chou/ml0223/blob/main/regression.ipynb\" target=\"_parent\"><img src=\"https://colab.research.google.com/assets/colab-badge.svg\" alt=\"Open In Colab\"/></a>"
      ]
    },
    {
      "cell_type": "markdown",
      "metadata": {
        "id": "lVRxch-pp5wi"
      },
      "source": [
        "CRIM：人均犯罪率\r\n",
        "\r\n",
        "ZN：25,000平方英尺以上民用土地的比例\r\n",
        "\r\n",
        "INDUS：城镇非零售业商用土地比例\r\n",
        "\r\n",
        "CHAS：是否邻近查尔斯河，1是邻近，0是不邻近\r\n",
        "\r\n",
        "NOX：一氧化氮浓度（千万分之一）\r\n",
        "\r\n",
        "RM：住宅的平均房间数\r\n",
        "\r\n",
        "AGE：自住且建于1940年前的房屋比例\r\n",
        "\r\n",
        "DIS：到5个波士顿就业中心的加权距离\r\n",
        "\r\n",
        "RAD：到高速公路的便捷度指数\r\n",
        "\r\n",
        "TAX：每万元的房产税率\r\n",
        "\r\n",
        "PTRATIO：城镇学生教师比例\r\n",
        "\r\n",
        "B： 1000(Bk − 0.63)2 其中Bk是城镇中黑人比例\r\n",
        "\r\n",
        "LSTAT：低收入人群比例\r\n",
        "\r\n",
        "ans：自住房中位数价格，单位是千元"
      ]
    },
    {
      "cell_type": "code",
      "metadata": {
        "id": "wuUf_0grza9Y"
      },
      "source": [
        "import pandas as pd\r\n",
        "from sklearn.datasets import load_boston\r\n",
        "boston = load_boston()\r\n",
        "df = pd.DataFrame(boston[\"data\"],\r\n",
        "          columns=boston[\"feature_names\"])\r\n",
        "df[\"ans\"] = boston[\"target\"]\r\n",
        "df"
      ],
      "execution_count": null,
      "outputs": []
    },
    {
      "cell_type": "code",
      "metadata": {
        "id": "iGCGuBLUw_zs"
      },
      "source": [
        "import numpy as np\r\n",
        "from sklearn.model_selection import train_test_split\r\n",
        "# [題目90, 題目10, 答案90, 答案10]\r\n",
        "x_train, x_test, y_train, y_test = train_test_split(np.array(boston[\"data\"]),\r\n",
        "                             np.array(boston[\"target\"]),\r\n",
        "                             test_size=0.1)\r\n"
      ],
      "execution_count": null,
      "outputs": []
    },
    {
      "cell_type": "code",
      "metadata": {
        "id": "PXO9NPTQ0pN9"
      },
      "source": [
        "from sklearn.tree import DecisionTreeRegressor\r\n",
        "reg = DecisionTreeRegressor(max_depth=2)\r\n",
        "reg.fit(x_train, y_train)"
      ],
      "execution_count": null,
      "outputs": []
    },
    {
      "cell_type": "code",
      "metadata": {
        "id": "QCGE08sJ1Oag"
      },
      "source": [
        "import matplotlib.pyplot as plt\r\n",
        "from sklearn.tree import plot_tree\r\n",
        "plt.figure(figsize=(14, 14))\r\n",
        "plot_tree(reg, \r\n",
        "     feature_names=boston[\"feature_names\"], \r\n",
        "     filled=True)"
      ],
      "execution_count": null,
      "outputs": []
    }
  ]
}