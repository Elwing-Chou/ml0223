{
  "nbformat": 4,
  "nbformat_minor": 0,
  "metadata": {
    "colab": {
      "name": "cluster.ipynb",
      "private_outputs": true,
      "provenance": [],
      "authorship_tag": "ABX9TyNYn5PXm6wTP9wtBi/aChsX",
      "include_colab_link": true
    },
    "kernelspec": {
      "name": "python3",
      "display_name": "Python 3"
    }
  },
  "cells": [
    {
      "cell_type": "markdown",
      "metadata": {
        "id": "view-in-github",
        "colab_type": "text"
      },
      "source": [
        "<a href=\"https://colab.research.google.com/github/Elwing-Chou/ml0223/blob/main/cluster.ipynb\" target=\"_parent\"><img src=\"https://colab.research.google.com/assets/colab-badge.svg\" alt=\"Open In Colab\"/></a>"
      ]
    },
    {
      "cell_type": "code",
      "metadata": {
        "id": "wuUf_0grza9Y"
      },
      "source": [
        "import pandas as pd\r\n",
        "from sklearn.datasets import load_iris\r\n",
        "iris = load_iris()\r\n",
        "df = pd.DataFrame(iris[\"data\"],\r\n",
        "          columns=iris[\"feature_names\"])\r\n",
        "df"
      ],
      "execution_count": null,
      "outputs": []
    },
    {
      "cell_type": "code",
      "metadata": {
        "id": "GRYqoaBt1NSx"
      },
      "source": [
        "from sklearn.cluster import KMeans\r\n",
        "cluster = KMeans(n_clusters=3)\r\n",
        "cluster.fit(iris[\"data\"])"
      ],
      "execution_count": null,
      "outputs": []
    },
    {
      "cell_type": "code",
      "metadata": {
        "id": "lp_mflBN1vTm"
      },
      "source": [
        "cluster.labels_"
      ],
      "execution_count": null,
      "outputs": []
    },
    {
      "cell_type": "code",
      "metadata": {
        "id": "gW1Gm1SANp8Y"
      },
      "source": [
        "df[\"label\"] = cluster.labels_\r\n",
        "df"
      ],
      "execution_count": null,
      "outputs": []
    },
    {
      "cell_type": "code",
      "metadata": {
        "id": "zc-79eN52LfD"
      },
      "source": [
        "cluster.cluster_centers_"
      ],
      "execution_count": null,
      "outputs": []
    },
    {
      "cell_type": "code",
      "metadata": {
        "id": "bNbf5JMS5ew8"
      },
      "source": [
        "import matplotlib.pyplot as plt\r\n",
        "import seaborn as sns\r\n",
        "sns.scatterplot(df[\"sepal length (cm)\"],\r\n",
        "        df[\"petal length (cm)\"],\r\n",
        "        hue=iris[\"target\"])"
      ],
      "execution_count": null,
      "outputs": []
    },
    {
      "cell_type": "code",
      "metadata": {
        "id": "DtkZW_ZfLx0t"
      },
      "source": [
        "from sklearn.metrics import silhouette_score\r\n",
        "for k in range(2, 10):\r\n",
        "    test = KMeans(n_clusters=k)\r\n",
        "    test.fit(iris[\"data\"])\r\n",
        "    print(\"k:\", k)\r\n",
        "    score = silhouette_score(iris[\"data\"], test.labels_)\r\n",
        "    print(\"score:\", score)"
      ],
      "execution_count": null,
      "outputs": []
    }
  ]
}