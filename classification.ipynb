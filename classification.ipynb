{
  "nbformat": 4,
  "nbformat_minor": 0,
  "metadata": {
    "colab": {
      "name": "classification.ipynb",
      "private_outputs": true,
      "provenance": [],
      "authorship_tag": "ABX9TyM35mKgzxujuKrQMW4BIrpa",
      "include_colab_link": true
    },
    "kernelspec": {
      "name": "python3",
      "display_name": "Python 3"
    }
  },
  "cells": [
    {
      "cell_type": "markdown",
      "metadata": {
        "id": "view-in-github",
        "colab_type": "text"
      },
      "source": [
        "<a href=\"https://colab.research.google.com/github/Elwing-Chou/ml0223/blob/main/classification.ipynb\" target=\"_parent\"><img src=\"https://colab.research.google.com/assets/colab-badge.svg\" alt=\"Open In Colab\"/></a>"
      ]
    },
    {
      "cell_type": "code",
      "metadata": {
        "id": "wuUf_0grza9Y"
      },
      "source": [
        "import pandas as pd\r\n",
        "from sklearn.datasets import load_iris\r\n",
        "iris = load_iris()\r\n",
        "df = pd.DataFrame(iris[\"data\"],\r\n",
        "          columns=iris[\"feature_names\"])\r\n",
        "df[\"ans\"] = iris[\"target\"]\r\n",
        "df"
      ],
      "execution_count": null,
      "outputs": []
    },
    {
      "cell_type": "code",
      "metadata": {
        "id": "iGCGuBLUw_zs"
      },
      "source": [
        "import numpy as np\r\n",
        "from sklearn.model_selection import train_test_split\r\n",
        "# [題目90, 題目10, 答案90, 答案10]\r\n",
        "x_train, x_test, y_train, y_test = train_test_split(np.array(iris[\"data\"]),\r\n",
        "                             np.array(iris[\"target\"]),\r\n",
        "                             test_size=0.1)"
      ],
      "execution_count": null,
      "outputs": []
    }
  ]
}