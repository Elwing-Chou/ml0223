{
  "nbformat": 4,
  "nbformat_minor": 0,
  "metadata": {
    "colab": {
      "name": "news.ipynb",
      "private_outputs": true,
      "provenance": [],
      "mount_file_id": "1JmG6yTsBmvdln6WlBluZzo1jZvsViDEq",
      "authorship_tag": "ABX9TyOa6MkOhrCSsn82MLLbOFO6",
      "include_colab_link": true
    },
    "kernelspec": {
      "name": "python3",
      "display_name": "Python 3"
    }
  },
  "cells": [
    {
      "cell_type": "markdown",
      "metadata": {
        "id": "view-in-github",
        "colab_type": "text"
      },
      "source": [
        "<a href=\"https://colab.research.google.com/github/Elwing-Chou/ml0223/blob/main/news.ipynb\" target=\"_parent\"><img src=\"https://colab.research.google.com/assets/colab-badge.svg\" alt=\"Open In Colab\"/></a>"
      ]
    },
    {
      "cell_type": "code",
      "metadata": {
        "id": "EIongvSz0c6C"
      },
      "source": [
        "from zipfile import ZipFile\r\n",
        "f = ZipFile(\"/content/drive/MyDrive/news/chinese_news_trans.zip\")\r\n",
        "f.extractall()\r\n",
        "f = ZipFile(\"/content/drive/MyDrive/news/chinese_news_test.zip\")\r\n",
        "f.extractall()"
      ],
      "execution_count": null,
      "outputs": []
    }
  ]
}