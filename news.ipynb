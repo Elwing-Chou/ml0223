{
  "nbformat": 4,
  "nbformat_minor": 0,
  "metadata": {
    "colab": {
      "name": "news.ipynb",
      "private_outputs": true,
      "provenance": [],
      "mount_file_id": "1JmG6yTsBmvdln6WlBluZzo1jZvsViDEq",
      "authorship_tag": "ABX9TyPeaaEcB0wcxn49RC3qXg3B",
      "include_colab_link": true
    },
    "kernelspec": {
      "name": "python3",
      "display_name": "Python 3"
    }
  },
  "cells": [
    {
      "cell_type": "markdown",
      "metadata": {
        "id": "view-in-github",
        "colab_type": "text"
      },
      "source": [
        "<a href=\"https://colab.research.google.com/github/Elwing-Chou/ml0223/blob/main/news.ipynb\" target=\"_parent\"><img src=\"https://colab.research.google.com/assets/colab-badge.svg\" alt=\"Open In Colab\"/></a>"
      ]
    },
    {
      "cell_type": "code",
      "metadata": {
        "id": "EIongvSz0c6C"
      },
      "source": [
        "from zipfile import ZipFile\r\n",
        "f = ZipFile(\"/content/drive/MyDrive/news/chinese_news_trans.zip\")\r\n",
        "f.extractall()\r\n",
        "f = ZipFile(\"/content/drive/MyDrive/news/chinese_news_test.zip\")\r\n",
        "f.extractall()"
      ],
      "execution_count": null,
      "outputs": []
    },
    {
      "cell_type": "code",
      "metadata": {
        "id": "jd-VQSTF4Ogd"
      },
      "source": [
        "import os\r\n",
        "import glob\r\n",
        "import pandas as pd\r\n",
        "def process(base):\r\n",
        "    datas = {\r\n",
        "        \"content\":[],\r\n",
        "        \"ans\":[]\r\n",
        "    }\r\n",
        "    dirs = glob.glob(os.path.join(base, \"*\"))\r\n",
        "    for d in dirs:\r\n",
        "        fns1 = os.path.join(d, \"*.txt\")\r\n",
        "        fns2 = os.path.join(d, \"*.TXT\")\r\n",
        "        fns = glob.glob(fns1) + glob.glob(fns2)\r\n",
        "        for fn in fns:\r\n",
        "            with open(fn, \"r\", encoding=\"utf-8\") as f:\r\n",
        "                datas[\"content\"].append(f.read())\r\n",
        "            datas[\"ans\"].append(os.path.split(d)[-1])\r\n",
        "    df = pd.DataFrame(datas)\r\n",
        "    return df\r\n",
        "train_df = process(\"chinese_news_trans\")\r\n",
        "test_df = process(\"chinese_news_test\")"
      ],
      "execution_count": null,
      "outputs": []
    }
  ]
}