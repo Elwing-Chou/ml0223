{
  "nbformat": 4,
  "nbformat_minor": 0,
  "metadata": {
    "colab": {
      "name": "titanic.ipynb",
      "private_outputs": true,
      "provenance": [],
      "authorship_tag": "ABX9TyPip0VtulkQfodIp4p9Lt9E",
      "include_colab_link": true
    },
    "kernelspec": {
      "name": "python3",
      "display_name": "Python 3"
    }
  },
  "cells": [
    {
      "cell_type": "markdown",
      "metadata": {
        "id": "view-in-github",
        "colab_type": "text"
      },
      "source": [
        "<a href=\"https://colab.research.google.com/github/Elwing-Chou/ml0223/blob/main/titanic.ipynb\" target=\"_parent\"><img src=\"https://colab.research.google.com/assets/colab-badge.svg\" alt=\"Open In Colab\"/></a>"
      ]
    },
    {
      "cell_type": "code",
      "metadata": {
        "id": "pkFTO-I-2ytR"
      },
      "source": [
        "from urllib.request import urlretrieve\r\n",
        "url = \"https://github.com/Elwing-Chou/ml0223/raw/main/train.csv\"\r\n",
        "urlretrieve(url, \"train.csv\")\r\n",
        "url = \"https://github.com/Elwing-Chou/ml0223/raw/main/test.csv\"\r\n",
        "urlretrieve(url, \"test.csv\")"
      ],
      "execution_count": null,
      "outputs": []
    },
    {
      "cell_type": "code",
      "metadata": {
        "id": "ONTNpLc43D1G"
      },
      "source": [
        "import pandas as pd\r\n",
        "train_df = pd.read_csv(\"train.csv\", encoding=\"utf-8\")\r\n",
        "test_df = pd.read_csv(\"test.csv\", encoding=\"utf-8\")"
      ],
      "execution_count": null,
      "outputs": []
    },
    {
      "cell_type": "code",
      "metadata": {
        "id": "yj8jJ7XH4NvQ"
      },
      "source": [
        "test_df"
      ],
      "execution_count": null,
      "outputs": []
    },
    {
      "cell_type": "code",
      "metadata": {
        "id": "AmTZjpSR-CXj"
      },
      "source": [
        "datas = pd.concat([train_df, test_df], axis=0, ignore_index=True)\r\n",
        "datas"
      ],
      "execution_count": null,
      "outputs": []
    },
    {
      "cell_type": "code",
      "metadata": {
        "id": "9MEKJzuy-e47"
      },
      "source": [
        "s = datas.isna().sum()\r\n",
        "# Series[True/False]\r\n",
        "s[s > 0].sort_values(ascending=False)"
      ],
      "execution_count": null,
      "outputs": []
    },
    {
      "cell_type": "code",
      "metadata": {
        "id": "lHdmPyWU_vC0"
      },
      "source": [
        "datas = datas.drop([\"PassengerId\", \"Survived\"], axis=1)\r\n",
        "datas"
      ],
      "execution_count": null,
      "outputs": []
    },
    {
      "cell_type": "code",
      "metadata": {
        "id": "Bw3nPWg5AKVl"
      },
      "source": [
        "# 數值類型: 中位數\r\n",
        "med = datas.median().drop(\"Pclass\")\r\n",
        "datas = datas.fillna(med)"
      ],
      "execution_count": null,
      "outputs": []
    },
    {
      "cell_type": "code",
      "metadata": {
        "id": "_BzoMWssBJ0t"
      },
      "source": [
        "# 類別類型: 最常出現\r\n",
        "most = datas[\"Embarked\"].value_counts().idxmax()\r\n",
        "datas[\"Embarked\"] = datas[\"Embarked\"].fillna(most)"
      ],
      "execution_count": null,
      "outputs": []
    },
    {
      "cell_type": "code",
      "metadata": {
        "id": "b1DC_GU4BlOc"
      },
      "source": [
        "s = datas.isna().sum()\r\n",
        "# Series[True/False]\r\n",
        "s[s > 0].sort_values(ascending=False)"
      ],
      "execution_count": null,
      "outputs": []
    },
    {
      "cell_type": "code",
      "metadata": {
        "id": "zfeJwlwOBAZd"
      },
      "source": [
        "def cabin(s):\r\n",
        "    if pd.isna(s):\r\n",
        "        return None\r\n",
        "    else:\r\n",
        "        return s[0]\r\n",
        "datas[\"Cabin\"] = datas[\"Cabin\"].apply(cabin)"
      ],
      "execution_count": null,
      "outputs": []
    },
    {
      "cell_type": "code",
      "metadata": {
        "id": "7RDFjQjPBpOH"
      },
      "source": [
        "def name(s):\r\n",
        "    mid = s.split(\",\")[-1].split(\".\")[0]\r\n",
        "    mid = mid.strip()\r\n",
        "    return mid\r\n",
        "count = datas[\"Name\"].apply(name).value_counts()\r\n",
        "reserved = count[:4].index\r\n",
        "def name2(s):\r\n",
        "    mid = s.split(\",\")[-1].split(\".\")[0]\r\n",
        "    mid = mid.strip()\r\n",
        "    if mid in reserved:\r\n",
        "        return mid\r\n",
        "    else:\r\n",
        "        return None\r\n",
        "datas[\"Name\"] = datas[\"Name\"].apply(name2)"
      ],
      "execution_count": null,
      "outputs": []
    },
    {
      "cell_type": "code",
      "metadata": {
        "id": "BHJFkIcRC-jP"
      },
      "source": [
        "datas"
      ],
      "execution_count": null,
      "outputs": []
    }
  ]
}