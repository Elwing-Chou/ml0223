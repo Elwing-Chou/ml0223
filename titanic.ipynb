{
  "nbformat": 4,
  "nbformat_minor": 0,
  "metadata": {
    "colab": {
      "name": "titanic.ipynb",
      "private_outputs": true,
      "provenance": [],
      "authorship_tag": "ABX9TyMH/GZ9PXFAqZxoXOo4cO9o",
      "include_colab_link": true
    },
    "kernelspec": {
      "name": "python3",
      "display_name": "Python 3"
    }
  },
  "cells": [
    {
      "cell_type": "markdown",
      "metadata": {
        "id": "view-in-github",
        "colab_type": "text"
      },
      "source": [
        "<a href=\"https://colab.research.google.com/github/Elwing-Chou/ml0223/blob/main/titanic.ipynb\" target=\"_parent\"><img src=\"https://colab.research.google.com/assets/colab-badge.svg\" alt=\"Open In Colab\"/></a>"
      ]
    },
    {
      "cell_type": "code",
      "metadata": {
        "id": "pkFTO-I-2ytR"
      },
      "source": [
        "from urllib.request import urlretrieve\r\n",
        "url = \"https://github.com/Elwing-Chou/ml0223/raw/main/train.csv\"\r\n",
        "urlretrieve(url, \"train.csv\")\r\n",
        "url = \"https://github.com/Elwing-Chou/ml0223/raw/main/test.csv\"\r\n",
        "urlretrieve(url, \"test.csv\")"
      ],
      "execution_count": null,
      "outputs": []
    },
    {
      "cell_type": "code",
      "metadata": {
        "id": "ONTNpLc43D1G"
      },
      "source": [
        "import pandas as pd\r\n",
        "train_df = pd.read_csv(\"train.csv\", encoding=\"utf-8\")\r\n",
        "test_df = pd.read_csv(\"test.csv\", encoding=\"utf-8\")"
      ],
      "execution_count": null,
      "outputs": []
    },
    {
      "cell_type": "code",
      "metadata": {
        "id": "yj8jJ7XH4NvQ"
      },
      "source": [
        "test_df"
      ],
      "execution_count": null,
      "outputs": []
    },
    {
      "cell_type": "code",
      "metadata": {
        "id": "AmTZjpSR-CXj"
      },
      "source": [
        "datas = pd.concat([train_df, test_df], axis=0, ignore_index=True)\r\n",
        "datas"
      ],
      "execution_count": null,
      "outputs": []
    },
    {
      "cell_type": "code",
      "metadata": {
        "id": "9MEKJzuy-e47"
      },
      "source": [
        "s = datas.isna().sum()\r\n",
        "# Series[True/False]\r\n",
        "s[s > 0].sort_values(ascending=False)"
      ],
      "execution_count": null,
      "outputs": []
    },
    {
      "cell_type": "code",
      "metadata": {
        "id": "lHdmPyWU_vC0"
      },
      "source": [
        "datas = datas.drop([\"PassengerId\", \"Survived\"], axis=1)\r\n",
        "datas"
      ],
      "execution_count": null,
      "outputs": []
    },
    {
      "cell_type": "code",
      "metadata": {
        "id": "Bw3nPWg5AKVl"
      },
      "source": [
        "# 數值類型: 中位數\r\n",
        "med = datas.median().drop(\"Pclass\")\r\n",
        "datas = datas.fillna(med)"
      ],
      "execution_count": null,
      "outputs": []
    },
    {
      "cell_type": "code",
      "metadata": {
        "id": "_BzoMWssBJ0t"
      },
      "source": [
        "# 類別類型: 最常出現\r\n",
        "most = datas[\"Embarked\"].value_counts().idxmax()\r\n",
        "datas[\"Embarked\"] = datas[\"Embarked\"].fillna(most)"
      ],
      "execution_count": null,
      "outputs": []
    },
    {
      "cell_type": "code",
      "metadata": {
        "id": "b1DC_GU4BlOc"
      },
      "source": [
        "s = datas.isna().sum()\r\n",
        "# Series[True/False]\r\n",
        "s[s > 0].sort_values(ascending=False)"
      ],
      "execution_count": null,
      "outputs": []
    },
    {
      "cell_type": "code",
      "metadata": {
        "id": "zfeJwlwOBAZd"
      },
      "source": [
        "def cabin(s):\r\n",
        "    if pd.isna(s):\r\n",
        "        return None\r\n",
        "    else:\r\n",
        "        return s[0]\r\n",
        "datas[\"Cabin\"] = datas[\"Cabin\"].apply(cabin)"
      ],
      "execution_count": null,
      "outputs": []
    },
    {
      "cell_type": "code",
      "metadata": {
        "id": "7RDFjQjPBpOH"
      },
      "source": [
        "def name(s):\r\n",
        "    mid = s.split(\",\")[-1].split(\".\")[0]\r\n",
        "    mid = mid.strip()\r\n",
        "    return mid\r\n",
        "count = datas[\"Name\"].apply(name).value_counts()\r\n",
        "reserved = count[:4].index\r\n",
        "def name2(s):\r\n",
        "    mid = s.split(\",\")[-1].split(\".\")[0]\r\n",
        "    mid = mid.strip()\r\n",
        "    if mid in reserved:\r\n",
        "        return mid\r\n",
        "    else:\r\n",
        "        return None\r\n",
        "datas[\"Name\"] = datas[\"Name\"].apply(name2)"
      ],
      "execution_count": null,
      "outputs": []
    },
    {
      "cell_type": "code",
      "metadata": {
        "id": "BHJFkIcRC-jP"
      },
      "source": [
        "datas"
      ],
      "execution_count": null,
      "outputs": []
    },
    {
      "cell_type": "code",
      "metadata": {
        "id": "GQlrbtw4EKLM"
      },
      "source": [
        "dic = datas[\"Ticket\"].value_counts()\r\n",
        "def ticket(t):\r\n",
        "    return dic[t]\r\n",
        "datas[\"Ticket\"] = datas[\"Ticket\"].apply(ticket)"
      ],
      "execution_count": null,
      "outputs": []
    },
    {
      "cell_type": "code",
      "metadata": {
        "id": "DimrgxJnDz7F"
      },
      "source": [
        "datas = pd.get_dummies(datas)\r\n",
        "datas = pd.get_dummies(datas, columns=[\"Pclass\"])\r\n",
        "datas"
      ],
      "execution_count": null,
      "outputs": []
    },
    {
      "cell_type": "code",
      "metadata": {
        "id": "Ho7EYehtK3p3"
      },
      "source": [
        "datas[\"Family\"] = datas[\"SibSp\"] + datas[\"Parch\"]\r\n",
        "datas"
      ],
      "execution_count": null,
      "outputs": []
    },
    {
      "cell_type": "code",
      "metadata": {
        "id": "QmiPuoIASqPF"
      },
      "source": [
        "y = train_df[\"Survived\"]\r\n",
        "# .iloc: [1st row, 2nd rows....]\r\n",
        "x = datas.iloc[:len(train_df)]\r\n",
        "predict = datas.iloc[len(train_df):]"
      ],
      "execution_count": null,
      "outputs": []
    },
    {
      "cell_type": "code",
      "metadata": {
        "id": "c_lIAHGARMlX"
      },
      "source": [
        "from sklearn.ensemble import RandomForestClassifier\r\n",
        "from sklearn.model_selection import GridSearchCV\r\n",
        "clf = RandomForestClassifier()\r\n",
        "params = {\r\n",
        "    \"n_estimators\":range(50, 53, 2),\r\n",
        "    \"max_depth\":range(5, 7)\r\n",
        "}\r\n",
        "grid = GridSearchCV(clf, params, cv=10, n_jobs=-1, scoring=\"neg_log_loss\")\r\n",
        "grid.fit(x, y)\r\n",
        "print(grid.best_score_)\r\n",
        "print(grid.best_params_)"
      ],
      "execution_count": null,
      "outputs": []
    },
    {
      "cell_type": "code",
      "metadata": {
        "id": "pFsHD-LjRTO6"
      },
      "source": [
        "import numpy as np\r\n",
        "from sklearn.model_selection import cross_val_score\r\n",
        "clf = RandomForestClassifier(n_estimators=53, max_depth=7)\r\n",
        "scores = cross_val_score(clf, x, y, cv=10, n_jobs=-1)\r\n",
        "print(scores)\r\n",
        "print(np.average(scores))\r\n",
        "clf = RandomForestClassifier(n_estimators=53, max_depth=7)\r\n",
        "scores = cross_val_score(clf, x, y, cv=10, n_jobs=-1, scoring=\"neg_log_loss\")\r\n",
        "print(scores)\r\n",
        "print(np.average(scores))"
      ],
      "execution_count": null,
      "outputs": []
    },
    {
      "cell_type": "code",
      "metadata": {
        "id": "t66uuMtn0qva"
      },
      "source": [
        "clf = RandomForestClassifier(n_estimators=53, max_depth=7)\r\n",
        "clf.fit(x, y)\r\n",
        "pre = clf.predict(predict)\r\n",
        "ans = pd.DataFrame({\r\n",
        "    \"PassengerId\":test_df[\"PassengerId\"],\r\n",
        "    \"Survived\":pre\r\n",
        "})\r\n",
        "ans.to_csv(\"rf.csv\", encoding=\"utf-8\", index=False)"
      ],
      "execution_count": null,
      "outputs": []
    },
    {
      "cell_type": "code",
      "metadata": {
        "id": "ap9nOe3yq_HM"
      },
      "source": [
        "import pandas as pd\r\n",
        "pd.DataFrame(clf.feature_importances_, \r\n",
        "       columns=[\"Importance\"],\r\n",
        "       index=datas.columns).sort_values(by=\"Importance\", ascending=False)"
      ],
      "execution_count": null,
      "outputs": []
    },
    {
      "cell_type": "code",
      "metadata": {
        "id": "ga9qJtsaslTd"
      },
      "source": [
        "dt = clf.estimators_[0]"
      ],
      "execution_count": null,
      "outputs": []
    },
    {
      "cell_type": "code",
      "metadata": {
        "id": "4vYoH2pO4MLE"
      },
      "source": [
        "from sklearn.preprocessing import MinMaxScaler\r\n",
        "scaler = MinMaxScaler()\r\n",
        "datas_scale = scaler.fit_transform(datas)\r\n",
        "datas_scale = pd.DataFrame(datas_scale, columns=datas.columns)\r\n",
        "datas_scale"
      ],
      "execution_count": null,
      "outputs": []
    },
    {
      "cell_type": "code",
      "metadata": {
        "id": "JWZKUJZQ5AlP"
      },
      "source": [
        "x_scale = datas_scale.iloc[:len(train_df)]\r\n",
        "predict_scale = datas_scale.iloc[len(train_df):]"
      ],
      "execution_count": null,
      "outputs": []
    },
    {
      "cell_type": "code",
      "metadata": {
        "id": "vPWlS2u75Krb"
      },
      "source": [
        "from sklearn.neighbors import KNeighborsClassifier\r\n",
        "from sklearn.model_selection import GridSearchCV\r\n",
        "clf = KNeighborsClassifier()\r\n",
        "params = {\r\n",
        "    \"n_neighbors\":range(5, 200),\r\n",
        "}\r\n",
        "grid = GridSearchCV(clf, params, cv=10, n_jobs=-1, scoring=\"neg_log_loss\")\r\n",
        "grid.fit(x_scale, y)\r\n",
        "print(grid.best_score_)\r\n",
        "print(grid.best_params_)"
      ],
      "execution_count": null,
      "outputs": []
    },
    {
      "cell_type": "code",
      "metadata": {
        "id": "lOuRVPj45tv3"
      },
      "source": [
        "clf = KNeighborsClassifier(n_neighbors=11)\r\n",
        "clf.fit(x_scale, y)\r\n",
        "pre = clf.predict(predict_scale)\r\n",
        "ans = pd.DataFrame({\r\n",
        "    \"PassengerId\":test_df[\"PassengerId\"],\r\n",
        "    \"Survived\":pre\r\n",
        "})\r\n",
        "ans.to_csv(\"knn.csv\", encoding=\"utf-8\", index=False)"
      ],
      "execution_count": null,
      "outputs": []
    }
  ]
}