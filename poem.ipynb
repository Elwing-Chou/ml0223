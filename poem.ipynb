{
  "nbformat": 4,
  "nbformat_minor": 0,
  "metadata": {
    "colab": {
      "name": "poem.ipynb",
      "private_outputs": true,
      "provenance": [],
      "authorship_tag": "ABX9TyONKT1ct3fcqhtQfjnBXHHs",
      "include_colab_link": true
    },
    "kernelspec": {
      "name": "python3",
      "display_name": "Python 3"
    }
  },
  "cells": [
    {
      "cell_type": "markdown",
      "metadata": {
        "id": "view-in-github",
        "colab_type": "text"
      },
      "source": [
        "<a href=\"https://colab.research.google.com/github/Elwing-Chou/ml0223/blob/main/poem.ipynb\" target=\"_parent\"><img src=\"https://colab.research.google.com/assets/colab-badge.svg\" alt=\"Open In Colab\"/></a>"
      ]
    },
    {
      "cell_type": "code",
      "metadata": {
        "id": "gCZWfdd2nG3U"
      },
      "source": [
        "from urllib.request import urlretrieve\r\n",
        "url = \"https://github.com/Elwing-Chou/ml0223/raw/main/poem_train.csv\"\r\n",
        "urlretrieve(url, \"train.csv\")\r\n",
        "url = \"https://github.com/Elwing-Chou/ml0223/raw/main/poem_test.csv\"\r\n",
        "urlretrieve(url, \"test.csv\")"
      ],
      "execution_count": null,
      "outputs": []
    },
    {
      "cell_type": "code",
      "metadata": {
        "id": "3CWnRgSJqCC3"
      },
      "source": [
        "import pandas as pd\r\n",
        "train_df = pd.read_csv(\"train.csv\", encoding=\"utf-8\")\r\n",
        "test_df = pd.read_csv(\"test.csv\", encoding=\"utf-8\")"
      ],
      "execution_count": null,
      "outputs": []
    },
    {
      "cell_type": "code",
      "metadata": {
        "id": "VMyjGJHXqPmk"
      },
      "source": [
        "test_df"
      ],
      "execution_count": null,
      "outputs": []
    },
    {
      "cell_type": "code",
      "metadata": {
        "id": "DyCnsiIrqNma"
      },
      "source": [
        "# Series.replace({\"原本\":\"改成\"})\r\n",
        "# Series.unique/value_counts\r\n",
        "u = train_df[\"作者\"].unique()\r\n",
        "name2cat = {name:i for i, name in enumerate(u)}\r\n",
        "cat2name = {i:name for i, name in enumerate(u)}\r\n",
        "y_train = train_df[\"作者\"].replace(name2cat)\r\n",
        "y_test = test_df[\"作者\"].replace(name2cat)\r\n",
        "y_test"
      ],
      "execution_count": null,
      "outputs": []
    },
    {
      "cell_type": "code",
      "metadata": {
        "id": "L644XMU5x210"
      },
      "source": [
        "# Series.apply(func)\r\n",
        "import jieba\r\n",
        "def poemcut(p):\r\n",
        "    return \" \".join(jieba.cut(p))\r\n",
        "x_train = train_df[\"內容\"].apply(poemcut)\r\n",
        "x_test = test_df[\"內容\"].apply(poemcut)\r\n",
        "x_test"
      ],
      "execution_count": null,
      "outputs": []
    },
    {
      "cell_type": "code",
      "metadata": {
        "id": "dX2tfUDd8ZFy"
      },
      "source": [
        "from sklearn.feature_extraction.text import CountVectorizer\r\n",
        "vec = CountVectorizer()\r\n",
        "x_train_count = vec.fit_transform(x_train)\r\n",
        "x_test_count = vec.transform(x_test)"
      ],
      "execution_count": null,
      "outputs": []
    },
    {
      "cell_type": "code",
      "metadata": {
        "id": "FvPuRKGR9EYO"
      },
      "source": [
        "vec.vocabulary_\r\n",
        "x_train_count\r\n",
        "# vec.vocabulary_[\"，\"]"
      ],
      "execution_count": null,
      "outputs": []
    },
    {
      "cell_type": "code",
      "metadata": {
        "id": "WPIl9jbAZdSq"
      },
      "source": [
        "from sklearn.naive_bayes import MultinomialNB\r\n",
        "clf = MultinomialNB(alpha=0.01)\r\n",
        "clf.fit(x_train_count, y_train)"
      ],
      "execution_count": null,
      "outputs": []
    },
    {
      "cell_type": "code",
      "metadata": {
        "id": "bt4z6ij6a9mt"
      },
      "source": [
        "from sklearn.metrics import accuracy_score\r\n",
        "pre = clf.predict(x_test_count)\r\n",
        "accuracy_score(pre, y_test)"
      ],
      "execution_count": null,
      "outputs": []
    },
    {
      "cell_type": "code",
      "metadata": {
        "id": "3j1ItJn4g6P7"
      },
      "source": [
        "u"
      ],
      "execution_count": null,
      "outputs": []
    },
    {
      "cell_type": "code",
      "metadata": {
        "id": "dPQOWQdYgfeP"
      },
      "source": [
        "from sklearn.metrics import confusion_matrix\r\n",
        "mat = confusion_matrix(y_test, pre)\r\n",
        "pd.DataFrame(mat,\r\n",
        "      index=[name + \"(原本)\" for name in u],\r\n",
        "      columns=[name + \"(預測)\" for name in u])"
      ],
      "execution_count": null,
      "outputs": []
    },
    {
      "cell_type": "code",
      "metadata": {
        "id": "fV8e_dWthp6a"
      },
      "source": [
        "p = input(\"write:\")\r\n",
        "test = vec.transform([poemcut(p)])\r\n",
        "prob = clf.predict_proba(test)[0]\r\n",
        "for i in range(len(u)):\r\n",
        "    print(u[i], \"的機率:\", round(prob[i], 3))"
      ],
      "execution_count": null,
      "outputs": []
    }
  ]
}