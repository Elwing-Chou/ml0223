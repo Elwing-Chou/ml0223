{
  "nbformat": 4,
  "nbformat_minor": 0,
  "metadata": {
    "colab": {
      "name": "poem.ipynb",
      "private_outputs": true,
      "provenance": [],
      "authorship_tag": "ABX9TyOSBlBGpwc2sditHCy3OYmf",
      "include_colab_link": true
    },
    "kernelspec": {
      "name": "python3",
      "display_name": "Python 3"
    }
  },
  "cells": [
    {
      "cell_type": "markdown",
      "metadata": {
        "id": "view-in-github",
        "colab_type": "text"
      },
      "source": [
        "<a href=\"https://colab.research.google.com/github/Elwing-Chou/ml0223/blob/main/poem.ipynb\" target=\"_parent\"><img src=\"https://colab.research.google.com/assets/colab-badge.svg\" alt=\"Open In Colab\"/></a>"
      ]
    },
    {
      "cell_type": "code",
      "metadata": {
        "id": "gCZWfdd2nG3U"
      },
      "source": [
        "from urllib.request import urlretrieve\r\n",
        "url = \"https://github.com/Elwing-Chou/ml0223/raw/main/poem_train.csv\"\r\n",
        "urlretrieve(url, \"train.csv\")\r\n",
        "url = \"https://github.com/Elwing-Chou/ml0223/raw/main/poem_test.csv\"\r\n",
        "urlretrieve(url, \"test.csv\")"
      ],
      "execution_count": null,
      "outputs": []
    },
    {
      "cell_type": "code",
      "metadata": {
        "id": "3CWnRgSJqCC3"
      },
      "source": [
        "import pandas as pd\r\n",
        "train_df = pd.read_csv(\"train.csv\", encoding=\"utf-8\")\r\n",
        "test_df = pd.read_csv(\"test.csv\", encoding=\"utf-8\")"
      ],
      "execution_count": null,
      "outputs": []
    },
    {
      "cell_type": "code",
      "metadata": {
        "id": "VMyjGJHXqPmk"
      },
      "source": [
        "test_df"
      ],
      "execution_count": null,
      "outputs": []
    },
    {
      "cell_type": "code",
      "metadata": {
        "id": "DyCnsiIrqNma"
      },
      "source": [
        "# Series.replace({\"原本\":\"改成\"})\r\n",
        "# Series.unique/value_counts\r\n",
        "u = train_df[\"作者\"].unique()\r\n",
        "name2cat = {name:i for i, name in enumerate(u)}\r\n",
        "cat2name = {i:name for i, name in enumerate(u)}\r\n",
        "y_train = train_df[\"作者\"].replace(name2cat)\r\n",
        "y_test = test_df[\"作者\"].replace(name2cat)\r\n",
        "y_test"
      ],
      "execution_count": null,
      "outputs": []
    },
    {
      "cell_type": "code",
      "metadata": {
        "id": "L644XMU5x210"
      },
      "source": [
        "# Series.apply(func)\r\n",
        "import jieba\r\n",
        "def poemcut(p):\r\n",
        "    return \" \".join(jieba.cut(p))\r\n",
        "x_train = train_df[\"內容\"].apply(poemcut)\r\n",
        "x_test = test_df[\"內容\"].apply(poemcut)\r\n",
        "x_test"
      ],
      "execution_count": null,
      "outputs": []
    },
    {
      "cell_type": "code",
      "metadata": {
        "id": "dX2tfUDd8ZFy"
      },
      "source": [
        "from sklearn.feature_extraction.text import CountVectorizer\r\n",
        "vec = CountVectorizer()\r\n",
        "x_train_count = vec.fit_transform(x_train)\r\n",
        "x_test_count = vec.transform(x_test)"
      ],
      "execution_count": null,
      "outputs": []
    },
    {
      "cell_type": "code",
      "metadata": {
        "id": "FvPuRKGR9EYO"
      },
      "source": [
        "vec.vocabulary_\r\n",
        "x_train_count"
      ],
      "execution_count": null,
      "outputs": []
    }
  ]
}