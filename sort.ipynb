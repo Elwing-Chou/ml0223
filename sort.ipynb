{
  "nbformat": 4,
  "nbformat_minor": 0,
  "metadata": {
    "colab": {
      "name": "sort.ipynb",
      "provenance": [],
      "authorship_tag": "ABX9TyO8U41ZgjDmEDkGeTJ/JoqS",
      "include_colab_link": true
    },
    "kernelspec": {
      "name": "python3",
      "display_name": "Python 3"
    },
    "language_info": {
      "name": "python"
    }
  },
  "cells": [
    {
      "cell_type": "markdown",
      "metadata": {
        "id": "view-in-github",
        "colab_type": "text"
      },
      "source": [
        "<a href=\"https://colab.research.google.com/github/Elwing-Chou/ml0223/blob/main/sort.ipynb\" target=\"_parent\"><img src=\"https://colab.research.google.com/assets/colab-badge.svg\" alt=\"Open In Colab\"/></a>"
      ]
    },
    {
      "cell_type": "code",
      "metadata": {
        "colab": {
          "base_uri": "https://localhost:8080/"
        },
        "id": "mH0Kgp60NF_w",
        "outputId": "ad790685-972e-4178-e744-f41b1d601a2f"
      },
      "source": [
        "l = [-1, 2, -3, 2]\n",
        "sorted(l)"
      ],
      "execution_count": 1,
      "outputs": [
        {
          "output_type": "execute_result",
          "data": {
            "text/plain": [
              "[-3, -1, 2, 2]"
            ]
          },
          "metadata": {
            "tags": []
          },
          "execution_count": 1
        }
      ]
    },
    {
      "cell_type": "code",
      "metadata": {
        "colab": {
          "base_uri": "https://localhost:8080/"
        },
        "id": "cSIiSTssN8IQ",
        "outputId": "6a275544-24b8-4c3d-cdcf-e85077c07fcc"
      },
      "source": [
        "sorted(l, key=abs)"
      ],
      "execution_count": 3,
      "outputs": [
        {
          "output_type": "execute_result",
          "data": {
            "text/plain": [
              "[-1, 2, 2, -3]"
            ]
          },
          "metadata": {
            "tags": []
          },
          "execution_count": 3
        }
      ]
    },
    {
      "cell_type": "code",
      "metadata": {
        "colab": {
          "base_uri": "https://localhost:8080/"
        },
        "id": "yRgBfbgjOmDt",
        "outputId": "46fc0c01-9315-4a20-859d-e9e5050ce00a"
      },
      "source": [
        "pos = [(-1, 2), (3, 4), (-3, 5)]\n",
        "def func(t):\n",
        "    return t[0] ** 2 + t[1] ** 2\n",
        "sorted(pos, key=func)"
      ],
      "execution_count": 6,
      "outputs": [
        {
          "output_type": "execute_result",
          "data": {
            "text/plain": [
              "[(-1, 2), (3, 4), (-3, 5)]"
            ]
          },
          "metadata": {
            "tags": []
          },
          "execution_count": 6
        }
      ]
    },
    {
      "cell_type": "code",
      "metadata": {
        "colab": {
          "base_uri": "https://localhost:8080/"
        },
        "id": "MgMAH08mPj3C",
        "outputId": "9203718d-ec57-4b1f-e93b-eecce85a86b5"
      },
      "source": [
        "sorted(pos, key=lambda t:t[0] ** 2 + t[1] ** 2)"
      ],
      "execution_count": 7,
      "outputs": [
        {
          "output_type": "execute_result",
          "data": {
            "text/plain": [
              "[(-1, 2), (3, 4), (-3, 5)]"
            ]
          },
          "metadata": {
            "tags": []
          },
          "execution_count": 7
        }
      ]
    },
    {
      "cell_type": "code",
      "metadata": {
        "colab": {
          "base_uri": "https://localhost:8080/"
        },
        "id": "Kq8GkkETQSQj",
        "outputId": "dd6bb1a1-a5dd-4880-c600-2c75a55e76fe"
      },
      "source": [
        "students = [(180, 80), (170, 80), (170, 75)]\n",
        "sorted(students, key=lambda t:(t[1], -t[0]))"
      ],
      "execution_count": 13,
      "outputs": [
        {
          "output_type": "execute_result",
          "data": {
            "text/plain": [
              "[(170, 75), (180, 80), (170, 80)]"
            ]
          },
          "metadata": {
            "tags": []
          },
          "execution_count": 13
        }
      ]
    }
  ]
}