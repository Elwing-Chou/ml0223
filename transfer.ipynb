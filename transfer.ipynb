{
  "nbformat": 4,
  "nbformat_minor": 0,
  "metadata": {
    "colab": {
      "name": "transfer.ipynb",
      "private_outputs": true,
      "provenance": [],
      "mount_file_id": "1mDRqoOdsGdYuLhwmH5oE3c9wySRuCCBd",
      "authorship_tag": "ABX9TyNPDzxi/8qA9kqS+nBHkNdA",
      "include_colab_link": true
    },
    "kernelspec": {
      "name": "python3",
      "display_name": "Python 3"
    },
    "language_info": {
      "name": "python"
    },
    "accelerator": "GPU"
  },
  "cells": [
    {
      "cell_type": "markdown",
      "metadata": {
        "id": "view-in-github",
        "colab_type": "text"
      },
      "source": [
        "<a href=\"https://colab.research.google.com/github/Elwing-Chou/ml0223/blob/main/transfer.ipynb\" target=\"_parent\"><img src=\"https://colab.research.google.com/assets/colab-badge.svg\" alt=\"Open In Colab\"/></a>"
      ]
    },
    {
      "cell_type": "code",
      "metadata": {
        "id": "OzCBB59Wubo0"
      },
      "source": [
        "import zipfile\n",
        "path = \"drive/MyDrive/additional/train.zip\"\n",
        "f = zipfile.ZipFile(path)\n",
        "f.extractall()"
      ],
      "execution_count": null,
      "outputs": []
    },
    {
      "cell_type": "code",
      "metadata": {
        "id": "YQTAu8Qtv_QU"
      },
      "source": [
        "import glob\n",
        "from PIL import Image\n",
        "fs = glob.glob(\"train/*\")\n",
        "Image.open(fs[5000]).resize((224, 224)).convert(\"RGB\")"
      ],
      "execution_count": null,
      "outputs": []
    },
    {
      "cell_type": "code",
      "metadata": {
        "id": "5xSGI2fQxfeV"
      },
      "source": [
        "import pandas as pd\n",
        "dog = glob.glob(\"train/dog.*\")\n",
        "cat = glob.glob(\"train/cat.*\")\n",
        "datas = pd.DataFrame({\n",
        "    \"path\":dog + cat,\n",
        "    \"ans\":[0] * len(dog) + [1] * len(cat)\n",
        "})\n",
        "datas"
      ],
      "execution_count": null,
      "outputs": []
    }
  ]
}