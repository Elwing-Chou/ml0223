{
  "nbformat": 4,
  "nbformat_minor": 0,
  "metadata": {
    "colab": {
      "name": "transfer.ipynb",
      "private_outputs": true,
      "provenance": [],
      "mount_file_id": "1mDRqoOdsGdYuLhwmH5oE3c9wySRuCCBd",
      "authorship_tag": "ABX9TyO+i7R0jFtPAGZatDGcDjHS",
      "include_colab_link": true
    },
    "kernelspec": {
      "name": "python3",
      "display_name": "Python 3"
    },
    "language_info": {
      "name": "python"
    },
    "accelerator": "GPU"
  },
  "cells": [
    {
      "cell_type": "markdown",
      "metadata": {
        "id": "view-in-github",
        "colab_type": "text"
      },
      "source": [
        "<a href=\"https://colab.research.google.com/github/Elwing-Chou/ml0223/blob/main/transfer.ipynb\" target=\"_parent\"><img src=\"https://colab.research.google.com/assets/colab-badge.svg\" alt=\"Open In Colab\"/></a>"
      ]
    },
    {
      "cell_type": "code",
      "metadata": {
        "id": "OzCBB59Wubo0"
      },
      "source": [
        "import zipfile\n",
        "path = \"drive/MyDrive/additional/train.zip\"\n",
        "f = zipfile.ZipFile(path)\n",
        "f.extractall()"
      ],
      "execution_count": null,
      "outputs": []
    },
    {
      "cell_type": "code",
      "metadata": {
        "id": "YQTAu8Qtv_QU"
      },
      "source": [
        "import glob\n",
        "from PIL import Image\n",
        "fs = glob.glob(\"train/*\")\n",
        "Image.open(fs[5000]).resize((224, 224)).convert(\"RGB\")"
      ],
      "execution_count": null,
      "outputs": []
    },
    {
      "cell_type": "code",
      "metadata": {
        "id": "5xSGI2fQxfeV"
      },
      "source": [
        "import pandas as pd\n",
        "dog = glob.glob(\"train/dog.*\")\n",
        "cat = glob.glob(\"train/cat.*\")\n",
        "datas = pd.DataFrame({\n",
        "    \"path\":dog + cat,\n",
        "    \"ans\":[0] * len(dog) + [1] * len(cat)\n",
        "})\n",
        "datas"
      ],
      "execution_count": null,
      "outputs": []
    },
    {
      "cell_type": "code",
      "metadata": {
        "id": "9A3tULM10mds"
      },
      "source": [
        "from tensorflow.keras.applications.vgg16 import VGG16\n",
        "vgg = VGG16(include_top=False, input_shape=(224, 224, 3))\n",
        "vgg.summary()"
      ],
      "execution_count": null,
      "outputs": []
    },
    {
      "cell_type": "code",
      "metadata": {
        "id": "XGq47QfG1Ovz"
      },
      "source": [
        "from tensorflow.keras.layers import Flatten, Dense, Dropout\n",
        "from tensorflow.keras.models import Sequential\n",
        "vgg_layers = vgg.layers\n",
        "for l in vgg_layers:\n",
        "    l.trainable = False\n",
        "clf_layers = [\n",
        "    Flatten(),\n",
        "    Dense(128, activation=\"relu\"),\n",
        "    Dropout(0.25),\n",
        "    Dense(2, activation=\"softmax\")\n",
        "]\n",
        "model = Sequential(vgg_layers + clf_layers)\n",
        "model.summary()"
      ],
      "execution_count": null,
      "outputs": []
    },
    {
      "cell_type": "code",
      "metadata": {
        "id": "7p4-OdPp33VO"
      },
      "source": [
        "from tensorflow.keras.losses import SparseCategoricalCrossentropy\n",
        "model.compile(loss=SparseCategoricalCrossentropy(), \n",
        "       optimizer=\"adam\",\n",
        "       metrics=[\"accuracy\"])"
      ],
      "execution_count": null,
      "outputs": []
    },
    {
      "cell_type": "code",
      "metadata": {
        "id": "VxeF2CEX4mbQ"
      },
      "source": [
        "# demo pre: 你的預處理也要抄當初的預處理\n",
        "# https://github.com/keras-team/keras-applications/blob/master/keras_applications/imagenet_utils.py\n",
        "import numpy as np\n",
        "from tensorflow.keras.applications.vgg16 import preprocess_input\n",
        "img = Image.open(fs[5000]).resize((224, 224)).convert(\"RGB\")\n",
        "img_np = np.array(img)\n",
        "preprocess_input(img_np)"
      ],
      "execution_count": null,
      "outputs": []
    },
    {
      "cell_type": "code",
      "metadata": {
        "id": "TOEC7IRN1bAo"
      },
      "source": [
        "x, y = np.array(datas[\"path\"]), np.array(datas[\"ans\"])"
      ],
      "execution_count": null,
      "outputs": []
    },
    {
      "cell_type": "code",
      "metadata": {
        "id": "7U5qye7IzaTy"
      },
      "source": [
        "def get_data(x, y, batch=20):\n",
        "    idx = np.random.randint(0, len(x), size=batch)\n",
        "    y_batch = y[idx]\n",
        "    x_batch, x_batch_ori = [], []\n",
        "    for p in x[idx]:\n",
        "        img = Image.open(p).resize((224, 224)).convert(\"RGB\")\n",
        "        img_np = np.array(img) \n",
        "        img_np_pre = preprocess_input(img_np)\n",
        "        x_batch.append(img_np_pre)\n",
        "        x_batch_ori.append(img_np)\n",
        "    return (np.array(x_batch), np.array(y_batch), np.array(x_batch_ori))\n",
        "x_batch, y_batch, x_batch_ori = get_data(x, y)\n",
        "print(x_batch.shape)\n",
        "print(y_batch.shape)\n",
        "print(x_batch_ori.shape)"
      ],
      "execution_count": null,
      "outputs": []
    },
    {
      "cell_type": "code",
      "metadata": {
        "id": "QVefTs1S4N1c"
      },
      "source": [
        "for i in range(20):\n",
        "    print(\"-\" * 15, i, \"-\" * 15)\n",
        "    x_batch, y_batch, x_batch_ori = get_data(x, y)\n",
        "    result = model.train_on_batch(x_batch, y_batch)\n",
        "    print(\"[Train]:\", result)\n",
        "    x_batch, y_batch, x_batch_ori = get_data(x, y)\n",
        "    result = model.test_on_batch(x_batch, y_batch)\n",
        "    print(\"[Validate]:\", result)"
      ],
      "execution_count": null,
      "outputs": []
    }
  ]
}