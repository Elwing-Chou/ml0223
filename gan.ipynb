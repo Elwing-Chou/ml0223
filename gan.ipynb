{
  "nbformat": 4,
  "nbformat_minor": 0,
  "metadata": {
    "colab": {
      "name": "gan0419.ipynb",
      "private_outputs": true,
      "provenance": [],
      "authorship_tag": "ABX9TyOnFvDuUp+CR96fY6Xq/xaO",
      "include_colab_link": true
    },
    "kernelspec": {
      "name": "python3",
      "display_name": "Python 3"
    },
    "accelerator": "GPU"
  },
  "cells": [
    {
      "cell_type": "markdown",
      "metadata": {
        "id": "view-in-github",
        "colab_type": "text"
      },
      "source": [
        "<a href=\"https://colab.research.google.com/github/Elwing-Chou/ml0223/blob/main/gan.ipynb\" target=\"_parent\"><img src=\"https://colab.research.google.com/assets/colab-badge.svg\" alt=\"Open In Colab\"/></a>"
      ]
    },
    {
      "cell_type": "code",
      "metadata": {
        "id": "WsOEks-iI4II"
      },
      "source": [
        "from tensorflow.keras.datasets.mnist import load_data\n",
        "(x_train, y_train), (x_test, y_test) = load_data()"
      ],
      "execution_count": null,
      "outputs": []
    },
    {
      "cell_type": "code",
      "metadata": {
        "id": "eCwmXvDaPUr8"
      },
      "source": [
        "from tensorflow.keras.models import Sequential\n",
        "from tensorflow.keras.layers import Dense, Dropout\n",
        "layers = [\n",
        "    Dense(64, activation=\"relu\", input_dim=784),\n",
        "    Dropout(0.25),\n",
        "    Dense(1, activation=\"sigmoid\")\n",
        "]\n",
        "dis = Sequential(layers)\n",
        "dis.summary()"
      ],
      "execution_count": null,
      "outputs": []
    },
    {
      "cell_type": "code",
      "metadata": {
        "id": "aQmBPWgQQetZ"
      },
      "source": [
        "from tensorflow.keras.layers import BatchNormalization\n",
        "layers = [\n",
        "    Dense(256, activation=\"relu\", input_dim=100),\n",
        "    BatchNormalization(),\n",
        "    Dense(512, activation=\"relu\"),\n",
        "    BatchNormalization(),\n",
        "    Dense(784, activation=\"tanh\")\n",
        "]\n",
        "gen = Sequential(layers)\n",
        "gen.summary()"
      ],
      "execution_count": null,
      "outputs": []
    },
    {
      "cell_type": "code",
      "metadata": {
        "id": "E9yX3A-WSU8C"
      },
      "source": [
        "from tensorflow.keras.losses import BinaryCrossentropy\n",
        "dis.compile(loss=BinaryCrossentropy(),\n",
        "            optimizer=\"adam\")"
      ],
      "execution_count": null,
      "outputs": []
    },
    {
      "cell_type": "code",
      "metadata": {
        "id": "XCt_7rarStsH"
      },
      "source": [
        "from tensorflow.keras.models import Model\n",
        "dis.trainable = False\n",
        "out = dis(gen.output)\n",
        "gan = Model(gen.input, out)\n",
        "gan.summary()"
      ],
      "execution_count": null,
      "outputs": []
    },
    {
      "cell_type": "code",
      "metadata": {
        "id": "SYRRT6FTTVtH"
      },
      "source": [
        "gan.compile(loss=BinaryCrossentropy(),\n",
        "            optimizer=\"adam\")"
      ],
      "execution_count": null,
      "outputs": []
    },
    {
      "cell_type": "code",
      "metadata": {
        "id": "3gFbeBHKTjfb"
      },
      "source": [
        "x_train_norm = (x_train.reshape(60000, 784) - 127.5) / 127.5"
      ],
      "execution_count": null,
      "outputs": []
    },
    {
      "cell_type": "code",
      "metadata": {
        "id": "Ye5-xWwET6-8"
      },
      "source": [
        "import numpy as np\n",
        "valid = np.ones((20, )) \n",
        "fake = np.zeros((20, ))"
      ],
      "execution_count": null,
      "outputs": []
    },
    {
      "cell_type": "code",
      "metadata": {
        "id": "h9ypixjJUPi7"
      },
      "source": [
        "for i in range(100000):\n",
        "    # dis\n",
        "    idx = np.random.randint(0, 60000, size=20)\n",
        "    img = x_train_norm[idx]\n",
        "    r1 = dis.train_on_batch(img, valid)\n",
        "    rand = np.random.normal(size=(20, 100))\n",
        "    imgf = gen.predict(rand)\n",
        "    r2 = dis.train_on_batch(imgf, fake)\n",
        "    if i % 100 == 0:\n",
        "        print(\"dis loss:\", (r1 + r2) / 2)\n",
        "    # gen\n",
        "    rand = np.random.normal(size=(20, 100))\n",
        "    r3 = gan.train_on_batch(rand, valid)\n",
        "    if i % 100 == 0:\n",
        "        print(\"gen loss:\", r3)"
      ],
      "execution_count": null,
      "outputs": []
    },
    {
      "cell_type": "code",
      "metadata": {
        "id": "Yxk401eFWUA5"
      },
      "source": [
        "import matplotlib.pyplot as plt\n",
        "rand = np.random.normal(size=(5, 100))\n",
        "ans = (gen.predict(rand).reshape(5, 28, 28) + 1) / 2\n",
        "plt.figure(figsize=(10, 2))\n",
        "for i in range(5):\n",
        "    plt.subplot(1, 5, i+1)\n",
        "    plt.axis(\"off\")\n",
        "    plt.imshow(ans[i], cmap=\"gray\")"
      ],
      "execution_count": null,
      "outputs": []
    }
  ]
}