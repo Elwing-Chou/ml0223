{
  "nbformat": 4,
  "nbformat_minor": 0,
  "metadata": {
    "colab": {
      "name": "fashion_mlp.ipynb",
      "private_outputs": true,
      "provenance": [],
      "authorship_tag": "ABX9TyM4Oihs7WHl8gK8RQM1yNbi",
      "include_colab_link": true
    },
    "kernelspec": {
      "name": "python3",
      "display_name": "Python 3"
    }
  },
  "cells": [
    {
      "cell_type": "markdown",
      "metadata": {
        "id": "view-in-github",
        "colab_type": "text"
      },
      "source": [
        "<a href=\"https://colab.research.google.com/github/Elwing-Chou/ml0223/blob/main/fashion_mlp.ipynb\" target=\"_parent\"><img src=\"https://colab.research.google.com/assets/colab-badge.svg\" alt=\"Open In Colab\"/></a>"
      ]
    },
    {
      "cell_type": "code",
      "metadata": {
        "id": "ApOoSChOtKJa"
      },
      "source": [
        "from tensorflow.keras.datasets.fashion_mnist import load_data\n",
        "# ((x_train, y_train), (x_test, y_test))\n",
        "(x_train, y_train), (x_test, y_test) = load_data()"
      ],
      "execution_count": null,
      "outputs": []
    },
    {
      "cell_type": "code",
      "metadata": {
        "id": "hL-_t0thuWgc"
      },
      "source": [
        "print(x_train.shape)\n",
        "print(y_train.shape)\n",
        "print(x_test.shape)\n",
        "print(y_test.shape)"
      ],
      "execution_count": null,
      "outputs": []
    },
    {
      "cell_type": "code",
      "metadata": {
        "id": "7UubYsrAwHtL"
      },
      "source": [
        "trans = [\n",
        "\t\"T-shirt\",\n",
        "\t\"Trouser\",\n",
        "\t\"Pullover\",\n",
        "\t\"Dress\",\n",
        "\t\"Coat\",\n",
        "\t\"Sandal\",\n",
        "\t\"Shirt\",\n",
        "\t\"Sneaker\",\n",
        "\t\"Bag\",\n",
        "\t\"boot\"\n",
        "]"
      ],
      "execution_count": null,
      "outputs": []
    },
    {
      "cell_type": "code",
      "metadata": {
        "id": "KplwedUSvSDF"
      },
      "source": [
        "# https://matplotlib.org/stable/tutorials/colors/colormaps.html\n",
        "# reverse:_r\n",
        "import matplotlib.pyplot as plt\n",
        "print(trans[y_train[0]])\n",
        "plt.imshow(x_train[0], cmap=\"gray\")"
      ],
      "execution_count": null,
      "outputs": []
    },
    {
      "cell_type": "code",
      "metadata": {
        "id": "cBHPgr9FwWcL"
      },
      "source": [
        "import pandas as pd\n",
        "pd.DataFrame(x_train[0])"
      ],
      "execution_count": null,
      "outputs": []
    },
    {
      "cell_type": "code",
      "metadata": {
        "id": "7ewQUuZ13H8J"
      },
      "source": [
        "from tensorflow.keras.models import Sequential, load_model\n",
        "from tensorflow.keras.layers import Dense, Dropout\n",
        "# 一個神經元(兩個機率): BinaryCrossEntropy\n",
        "# 多個神經元: pilog(1/qi): CategoricalCrossEntropy\n",
        "from tensorflow.keras.losses import CategoricalCrossentropy\n",
        "import os\n",
        "if os.path.exists(\"mlp.h5\"):\n",
        "    print(\"模型存在, 直接讀取\")\n",
        "    model = load_model(\"mlp.h5\")\n",
        "else:\n",
        "    layers = [\n",
        "        # 784 * 256 + 256(bias)\n",
        "        Dense(256, activation=\"relu\", input_dim=784),\n",
        "        Dropout(0.25),\n",
        "        # 128 * 10 + 10(bias)\n",
        "        Dense(10, activation=\"softmax\")\n",
        "    ]\n",
        "    model = Sequential(layers)\n",
        "    model.compile(loss=CategoricalCrossentropy(),\n",
        "       metrics=[\"accuracy\"],\n",
        "       optimizer=\"adam\")\n",
        "model.summary()"
      ],
      "execution_count": null,
      "outputs": []
    },
    {
      "cell_type": "code",
      "metadata": {
        "id": "DqYoYDJhbe5n"
      },
      "source": [
        "from tensorflow.keras.utils import to_categorical\n",
        "y_train_cat = to_categorical(y_train, 10)\n",
        "y_test_cat = to_categorical(y_test, 10)\n",
        "print(y_train[0])\n",
        "print(y_train_cat[0])"
      ],
      "execution_count": null,
      "outputs": []
    },
    {
      "cell_type": "code",
      "metadata": {
        "id": "lRMgVpEkcO2F"
      },
      "source": [
        "x_train_shape = x_train.reshape(-1, 784) / 255.0\n",
        "x_test_shape = x_test.reshape(-1, 784) / 255.0"
      ],
      "execution_count": null,
      "outputs": []
    },
    {
      "cell_type": "code",
      "metadata": {
        "id": "XyO8U5ot7H_4"
      },
      "source": [
        "from tensorflow.keras.callbacks import EarlyStopping, ModelCheckpoint\n",
        "callbacks = [\n",
        "   EarlyStopping(patience=5, restore_best_weights=True),\n",
        "   ModelCheckpoint(\"mlp.h5\", save_best_only=True)\n",
        "]\n",
        "model.fit(x_train_shape,\n",
        "     y_train_cat,\n",
        "     batch_size=200,\n",
        "     epochs=50,\n",
        "     validation_split=0.1,\n",
        "     verbose=2,\n",
        "     callbacks=callbacks)"
      ],
      "execution_count": null,
      "outputs": []
    },
    {
      "cell_type": "code",
      "metadata": {
        "id": "6-Ov9AffDch3"
      },
      "source": [
        "# model.save(\"mlp.h5\")\n",
        "model.evaluate(x_test_shape, y_test_cat)"
      ],
      "execution_count": null,
      "outputs": []
    },
    {
      "cell_type": "code",
      "metadata": {
        "id": "aBXeIHbQ7IBH"
      },
      "source": [
        "from sklearn.metrics import confusion_matrix\n",
        "# sklearn: predict_proba/predict\n",
        "# tensorflow: predict/predict_classes\n",
        "pre = model.predict_classes(x_test_shape)\n",
        "mat = confusion_matrix(y_test, pre)\n",
        "pd.DataFrame(mat,\n",
        "       columns=[trans[i] + \"(預測)\" for i in range(10)],\n",
        "       index=[trans[i] + \"(正確)\" for i in range(10)])"
      ],
      "execution_count": null,
      "outputs": []
    },
    {
      "cell_type": "code",
      "metadata": {
        "id": "Q5az3LqvFo8x"
      },
      "source": [
        "import numpy as np\n",
        "idx = np.nonzero(pre != y_test)[0][:200]\n",
        "false_img = x_test[idx]\n",
        "false_pre = pre[idx]\n",
        "false_label = y_test[idx]\n",
        "plt.figure(figsize=(14, 42))\n",
        "width = 10\n",
        "height = len(idx) // width + 1\n",
        "for i in range(len(idx)):\n",
        "    plt.subplot(height, width, i+1)\n",
        "    plt.imshow(false_img[i])\n",
        "    t = \"[O]:{}\\n[P]:{}\".format(trans[false_label[i]], trans[false_pre[i]])\n",
        "    plt.title(t)\n",
        "    plt.axis(\"off\")"
      ],
      "execution_count": null,
      "outputs": []
    },
    {
      "cell_type": "code",
      "metadata": {
        "id": "QIbayo3tJOde"
      },
      "source": [
        "# Pillow\n",
        "import requests\n",
        "from PIL import Image\n",
        "# RGB, RGBA, L(gray)\n",
        "url = input(\"url:\")\n",
        "headers = {\n",
        "  \"user-agent\":\"user-agent: Mozilla/5.0 (Windows NT 10.0; Win64; x64) AppleWebKit/537.36 (KHTML, like Gecko) Chrome/89.0.4389.90 Safari/537.36\"  \n",
        "}\n",
        "response = requests.get(url, headers=headers, stream=True, verify=False)\n",
        "img = Image.open(response.raw).resize((28, 28)).convert(\"L\")\n",
        "img_np = 255 - np.array(img)\n",
        "img_np_r = img_np.reshape(1, 784) / 255.0\n",
        "proba = model.predict(img_np_r)[0]\n",
        "for i in range(10):\n",
        "    print(trans[i], \"的機率:\", proba[i])\n",
        "ans = model.predict_classes(img_np_r)[0]\n",
        "print(\"答案:\", trans[ans])\n",
        "plt.imshow(img_np, \"gray\")"
      ],
      "execution_count": null,
      "outputs": []
    },
    {
      "cell_type": "code",
      "metadata": {
        "id": "SM556Ne91QTa"
      },
      "source": [
        ""
      ],
      "execution_count": null,
      "outputs": []
    }
  ]
}