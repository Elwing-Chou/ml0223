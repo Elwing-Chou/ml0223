{
  "nbformat": 4,
  "nbformat_minor": 0,
  "metadata": {
    "colab": {
      "name": "cnn.ipynb",
      "private_outputs": true,
      "provenance": [],
      "authorship_tag": "ABX9TyM1OOShaymRGaRalQpuHm+w",
      "include_colab_link": true
    },
    "kernelspec": {
      "name": "python3",
      "display_name": "Python 3"
    },
    "language_info": {
      "name": "python"
    },
    "accelerator": "GPU"
  },
  "cells": [
    {
      "cell_type": "markdown",
      "metadata": {
        "id": "view-in-github",
        "colab_type": "text"
      },
      "source": [
        "<a href=\"https://colab.research.google.com/github/Elwing-Chou/ml0223/blob/main/cnn.ipynb\" target=\"_parent\"><img src=\"https://colab.research.google.com/assets/colab-badge.svg\" alt=\"Open In Colab\"/></a>"
      ]
    },
    {
      "cell_type": "code",
      "metadata": {
        "id": "opBwYUQqJEJV"
      },
      "source": [
        "from tensorflow.keras.datasets.cifar10 import load_data\n",
        "(x_train, y_train), (x_test, y_test) = load_data()"
      ],
      "execution_count": null,
      "outputs": []
    },
    {
      "cell_type": "code",
      "metadata": {
        "id": "s_tYeGGEKQj0"
      },
      "source": [
        "# mnist: 60000, 28, 28 -> 60000, 28, 28, 1\n",
        "print(x_train.shape)\n",
        "print(y_train.shape)\n",
        "print(x_test.shape)\n",
        "print(y_test.shape)"
      ],
      "execution_count": null,
      "outputs": []
    },
    {
      "cell_type": "code",
      "metadata": {
        "id": "9z3l2g_PMPcG"
      },
      "source": [
        "trans = [       \n",
        "    \"airplane\",\t\t\t\t\t\t\t\t\t\t\n",
        "    \"automobile\",\t\t\t\t\t\t\t\t\t\t\n",
        "    \"bird\",\t\t\t\t\t\t\t\t\t\t\n",
        "    \"cat\",\t\t\t\t\t\t\t\t\t\t\n",
        "    \"deer\",\t\t\t\t\t\t\t\t\t\t\n",
        "    \"dog\",\t\t\t\t\t\t\t\t\t\t\n",
        "    \"frog\",\t\t\t\t\t\t\t\t\t\t\n",
        "    \"horse\",\t\t\t\t\t\t\t\t\t\t\n",
        "    \"ship\",\t\t\t\t\t\t\t\t\t\t\n",
        "    \"truck\"\n",
        "]"
      ],
      "execution_count": null,
      "outputs": []
    },
    {
      "cell_type": "code",
      "metadata": {
        "id": "OzBR4cKAK-rC"
      },
      "source": [
        "import random\n",
        "import matplotlib.pyplot as plt\n",
        "idx = random.randint(0, 49999)\n",
        "print(trans[y_train[idx][0]])\n",
        "plt.imshow(x_train[idx])"
      ],
      "execution_count": null,
      "outputs": []
    },
    {
      "cell_type": "code",
      "metadata": {
        "id": "wZgt8_XJNfGH"
      },
      "source": [
        "from tensorflow.keras.models import Sequential\n",
        "from tensorflow.keras.layers import Conv2D, MaxPooling2D\n",
        "from tensorflow.keras.layers import Dense, Dropout, Flatten\n",
        "layers = [\n",
        "    # 一個filter(27) * 64 + 64(bias)\n",
        "    Conv2D(64, 3, padding=\"same\", activation=\"relu\", input_shape=(32, 32, 3)),\n",
        "    MaxPooling2D(),\n",
        "    # 576 * 128 + 128\n",
        "    Conv2D(128, 3, padding=\"same\", activation=\"relu\"),\n",
        "    MaxPooling2D(),\n",
        "    Conv2D(256, 3, padding=\"same\", activation=\"relu\"),\n",
        "    MaxPooling2D(),\n",
        "    Flatten(),\n",
        "    Dense(128, activation=\"relu\"),\n",
        "    Dropout(0.25),\n",
        "    Dense(10, activation=\"softmax\")\n",
        "]\n",
        "model = Sequential(layers)\n",
        "model.summary()"
      ],
      "execution_count": null,
      "outputs": []
    }
  ]
}