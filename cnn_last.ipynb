{
  "nbformat": 4,
  "nbformat_minor": 0,
  "metadata": {
    "colab": {
      "name": "cnn_last.ipynb",
      "private_outputs": true,
      "provenance": [],
      "authorship_tag": "ABX9TyPu30pUh9mtbZoTClEOr+Bo",
      "include_colab_link": true
    },
    "kernelspec": {
      "name": "python3",
      "display_name": "Python 3"
    },
    "language_info": {
      "name": "python"
    }
  },
  "cells": [
    {
      "cell_type": "markdown",
      "metadata": {
        "id": "view-in-github",
        "colab_type": "text"
      },
      "source": [
        "<a href=\"https://colab.research.google.com/github/Elwing-Chou/ml0223/blob/main/cnn_last.ipynb\" target=\"_parent\"><img src=\"https://colab.research.google.com/assets/colab-badge.svg\" alt=\"Open In Colab\"/></a>"
      ]
    },
    {
      "cell_type": "code",
      "metadata": {
        "id": "ouW5MFy_F3Df"
      },
      "source": [
        "from tensorflow.keras.applications.inception_v3 import InceptionV3\n",
        "cnn = InceptionV3(include_top=False, input_shape=(224, 224, 3))\n",
        "cnn.summary()"
      ],
      "execution_count": null,
      "outputs": []
    },
    {
      "cell_type": "code",
      "metadata": {
        "id": "bOjT_BZ-KXJu"
      },
      "source": [
        "from tensorflow.keras.utils import plot_model\n",
        "plot_model(cnn, to_file=\"inception.png\", show_shapes=True)"
      ],
      "execution_count": null,
      "outputs": []
    },
    {
      "cell_type": "code",
      "metadata": {
        "id": "gn4izFFPJ-MB"
      },
      "source": [
        "print(len(cnn.layers))"
      ],
      "execution_count": null,
      "outputs": []
    },
    {
      "cell_type": "code",
      "metadata": {
        "id": "U02LCXH-R36d"
      },
      "source": [
        "# 1 * 1\n",
        "w = cnn.get_layer(\"conv2d_99\").get_weights()\n",
        "w[0].shape"
      ],
      "execution_count": null,
      "outputs": []
    },
    {
      "cell_type": "code",
      "metadata": {
        "id": "6GGr5HcjTQa9"
      },
      "source": [
        "# # 1 * 1\n",
        "w = cnn.get_layer(\"conv2d_105\").get_weights()\n",
        "w[0].shape"
      ],
      "execution_count": null,
      "outputs": []
    },
    {
      "cell_type": "code",
      "metadata": {
        "id": "J9YstsatTmoh"
      },
      "source": [
        "# # 5 * 5 = 1 * 1 -> 5 * 5\n",
        "w = cnn.get_layer(\"conv2d_100\").get_weights()\n",
        "print(w[0].shape)\n",
        "w = cnn.get_layer(\"conv2d_101\").get_weights()\n",
        "print(w[0].shape)"
      ],
      "execution_count": null,
      "outputs": []
    },
    {
      "cell_type": "code",
      "metadata": {
        "id": "C2uCdYqLVE8M"
      },
      "source": [
        "# 5 * 5 = 1 * 1 -> 3 * 3 -> 3 * 3\n",
        "w = cnn.get_layer(\"conv2d_102\").get_weights()\n",
        "print(w[0].shape)\n",
        "w = cnn.get_layer(\"conv2d_103\").get_weights()\n",
        "print(w[0].shape)\n",
        "w = cnn.get_layer(\"conv2d_104\").get_weights()\n",
        "print(w[0].shape)"
      ],
      "execution_count": null,
      "outputs": []
    }
  ]
}