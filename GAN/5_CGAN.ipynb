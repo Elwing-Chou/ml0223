{
 "cells": [
  {
   "cell_type": "code",
   "execution_count": 1,
   "metadata": {
    "colab": {},
    "colab_type": "code",
    "id": "d4-7Sg-in4Fc"
   },
   "outputs": [
    {
     "name": "stderr",
     "output_type": "stream",
     "text": [
      "Using TensorFlow backend.\n"
     ]
    }
   ],
   "source": [
    "from keras.datasets import mnist\n",
    "import numpy as np\n",
    "%matplotlib inline\n",
    "# 我們會使用到一些內建的資料庫, MAC需要加入以下兩行, 才不會把對方的ssl憑證視為無效\n",
    "import ssl\n",
    "ssl._create_default_https_context = ssl._create_unverified_context"
   ]
  },
  {
   "cell_type": "code",
   "execution_count": 2,
   "metadata": {
    "colab": {},
    "colab_type": "code",
    "id": "8VS6oyz7o_XR"
   },
   "outputs": [],
   "source": [
    "# 回傳值: ((訓練特徵, 訓練目標), (測試特徵, 測試目標))\n",
    "(x_train, y_train),(x_test, y_test) = mnist.load_data()"
   ]
  },
  {
   "cell_type": "code",
   "execution_count": 3,
   "metadata": {
    "colab": {
     "base_uri": "https://localhost:8080/",
     "height": 35
    },
    "colab_type": "code",
    "id": "WePoNslhoBHK",
    "outputId": "5f4a7374-ab12-479e-f057-1ef3e1475d73"
   },
   "outputs": [
    {
     "data": {
      "text/plain": [
       "(60000, 28, 28)"
      ]
     },
     "execution_count": 3,
     "metadata": {},
     "output_type": "execute_result"
    }
   ],
   "source": [
    "x_train.shape"
   ]
  },
  {
   "cell_type": "code",
   "execution_count": 4,
   "metadata": {
    "colab": {},
    "colab_type": "code",
    "id": "0lQjIJcHoDCC"
   },
   "outputs": [],
   "source": [
    "from keras.utils import np_utils\n",
    "# reshape讓他從 32 * 32變成 784 * 1的一維陣列\n",
    "# 讓我們標準化到-1~1區間\n",
    "x_train_shaped = (x_train - 127.5)/127.5\n",
    "x_test_shaped = (x_test - 127.5)/127.5"
   ]
  },
  {
   "cell_type": "code",
   "execution_count": 5,
   "metadata": {},
   "outputs": [
    {
     "name": "stdout",
     "output_type": "stream",
     "text": [
      "原本的y_train shape: (60000,)\n"
     ]
    },
    {
     "data": {
      "text/plain": [
       "array([5, 0, 4, ..., 5, 6, 8], dtype=uint8)"
      ]
     },
     "execution_count": 5,
     "metadata": {},
     "output_type": "execute_result"
    }
   ],
   "source": [
    "print('原本的y_train shape:', y_train.shape)\n",
    "y_train"
   ]
  },
  {
   "cell_type": "code",
   "execution_count": 6,
   "metadata": {},
   "outputs": [
    {
     "name": "stdout",
     "output_type": "stream",
     "text": [
      "後來的y_train shape: (60000, 1)\n"
     ]
    },
    {
     "data": {
      "text/plain": [
       "array([[5],\n",
       "       [0],\n",
       "       [4],\n",
       "       ...,\n",
       "       [5],\n",
       "       [6],\n",
       "       [8]], dtype=uint8)"
      ]
     },
     "execution_count": 6,
     "metadata": {},
     "output_type": "execute_result"
    }
   ],
   "source": [
    "# 這裡reshape比較特別的參數是-1\n",
    "# nparray的reshape容許你填入一個-1\n",
    "# -1是指會自動幫你算出-1該等於多少\n",
    "# ex (2, 3) reshape (-1, 1) 相當於reshape成(6, 1)\n",
    "y_train = y_train.reshape(-1, 1)\n",
    "print('後來的y_train shape:', y_train.shape)\n",
    "y_train"
   ]
  },
  {
   "cell_type": "code",
   "execution_count": 2,
   "metadata": {
    "colab": {},
    "colab_type": "code",
    "id": "RfuFACAMn7Kk"
   },
   "outputs": [],
   "source": [
    "img_shape = (28, 28)\n",
    "random_dim = 100"
   ]
  },
  {
   "cell_type": "code",
   "execution_count": 4,
   "metadata": {
    "colab": {
     "base_uri": "https://localhost:8080/",
     "height": 765
    },
    "colab_type": "code",
    "id": "-61SI4LAoFSE",
    "outputId": "c92ac16a-6a86-49af-b938-c75b0cd48e4a"
   },
   "outputs": [
    {
     "name": "stdout",
     "output_type": "stream",
     "text": [
      "_________________________________________________________________\n",
      "Layer (type)                 Output Shape              Param #   \n",
      "=================================================================\n",
      "dense_4 (Dense)              (None, 256)               25856     \n",
      "_________________________________________________________________\n",
      "batch_normalization_3 (Batch (None, 256)               1024      \n",
      "_________________________________________________________________\n",
      "dense_5 (Dense)              (None, 512)               131584    \n",
      "_________________________________________________________________\n",
      "batch_normalization_4 (Batch (None, 512)               2048      \n",
      "_________________________________________________________________\n",
      "dense_6 (Dense)              (None, 784)               402192    \n",
      "_________________________________________________________________\n",
      "reshape_2 (Reshape)          (None, 28, 28)            0         \n",
      "=================================================================\n",
      "Total params: 562,704\n",
      "Trainable params: 561,168\n",
      "Non-trainable params: 1,536\n",
      "_________________________________________________________________\n"
     ]
    }
   ],
   "source": [
    "from keras.layers import Input\n",
    "from keras.models import Model, Sequential\n",
    "from keras.layers.core import Reshape, Dense, Dropout, Flatten\n",
    "from keras.layers import Embedding, multiply, BatchNormalization\n",
    "\n",
    "# 這裡跟我們GAN的創作家一模一樣\n",
    "generator = Sequential()\n",
    "generator.add(Dense(256, input_dim=random_dim, activation='relu'))\n",
    "generator.add(BatchNormalization())\n",
    "generator.add(Dense(512, activation='relu'))\n",
    "generator.add(BatchNormalization())\n",
    "generator.add(Dense(784, activation='tanh'))\n",
    "generator.add(Reshape(img_shape))\n",
    "generator.summary()\n"
   ]
  },
  {
   "cell_type": "code",
   "execution_count": 5,
   "metadata": {},
   "outputs": [
    {
     "name": "stdout",
     "output_type": "stream",
     "text": [
      "__________________________________________________________________________________________________\n",
      "Layer (type)                    Output Shape         Param #     Connected to                     \n",
      "==================================================================================================\n",
      "input_4 (InputLayer)            (None, 1)            0                                            \n",
      "__________________________________________________________________________________________________\n",
      "embedding_2 (Embedding)         (None, 1, 100)       1000        input_4[0][0]                    \n",
      "__________________________________________________________________________________________________\n",
      "input_3 (InputLayer)            (None, 100)          0                                            \n",
      "__________________________________________________________________________________________________\n",
      "flatten_2 (Flatten)             (None, 100)          0           embedding_2[0][0]                \n",
      "__________________________________________________________________________________________________\n",
      "multiply_2 (Multiply)           (None, 100)          0           input_3[0][0]                    \n",
      "                                                                 flatten_2[0][0]                  \n",
      "__________________________________________________________________________________________________\n",
      "sequential_3 (Sequential)       (None, 28, 28)       562704      multiply_2[0][0]                 \n",
      "==================================================================================================\n",
      "Total params: 563,704\n",
      "Trainable params: 562,168\n",
      "Non-trainable params: 1,536\n",
      "__________________________________________________________________________________________________\n"
     ]
    }
   ],
   "source": [
    "# 這裡必需使用Model來做比較複雜的模型\n",
    "noise = Input(shape=(random_dim,))\n",
    "# 我們的標籤輸入 輸入只有一個維度 (1, )的,是為了讓小括號被當成tuple\n",
    "# 否則會被當成普通的()\n",
    "label = Input(shape=(1,), dtype='int32')\n",
    "# 使用Embedding得到100向量\n",
    "# input_dim = 10 -> 0~9\n",
    "# output_dim = 100 -> 100維度的向量\n",
    "# 接著使用Flatten把(1, 100)轉化成為(100)\n",
    "label_embedding = Flatten()(Embedding(input_dim = 10, output_dim = random_dim)(label))\n",
    "# 把靈感和標籤乘起來\n",
    "model_input = multiply([noise, label_embedding])\n",
    "# 經過我們上面的Generator做出圖片\n",
    "img = generator(model_input)\n",
    "# 完整的generator\n",
    "# inputs = [noise, label] -> [靈感, 標籤]\n",
    "# outputs = img -> 創作圖片\n",
    "cgenerator = Model([noise, label], img)\n",
    "cgenerator.summary()"
   ]
  },
  {
   "cell_type": "code",
   "execution_count": 6,
   "metadata": {
    "colab": {
     "base_uri": "https://localhost:8080/",
     "height": 835
    },
    "colab_type": "code",
    "id": "KOHb4y4IoH8R",
    "outputId": "c6b114e2-436a-4e98-bb16-f229d3be335e"
   },
   "outputs": [
    {
     "name": "stdout",
     "output_type": "stream",
     "text": [
      "_________________________________________________________________\n",
      "Layer (type)                 Output Shape              Param #   \n",
      "=================================================================\n",
      "dense_7 (Dense)              (None, 512)               401920    \n",
      "_________________________________________________________________\n",
      "dropout_1 (Dropout)          (None, 512)               0         \n",
      "_________________________________________________________________\n",
      "dense_8 (Dense)              (None, 256)               131328    \n",
      "_________________________________________________________________\n",
      "dropout_2 (Dropout)          (None, 256)               0         \n",
      "_________________________________________________________________\n",
      "dense_9 (Dense)              (None, 128)               32896     \n",
      "_________________________________________________________________\n",
      "dropout_3 (Dropout)          (None, 128)               0         \n",
      "_________________________________________________________________\n",
      "dense_10 (Dense)             (None, 1)                 129       \n",
      "=================================================================\n",
      "Total params: 566,273\n",
      "Trainable params: 566,273\n",
      "Non-trainable params: 0\n",
      "_________________________________________________________________\n"
     ]
    }
   ],
   "source": [
    "discriminator = Sequential()\n",
    "discriminator.add(Dense(512, input_dim=784,\n",
    "                        activation='relu'))\n",
    "discriminator.add(Dropout(0.25))\n",
    "discriminator.add(Dense(256, activation='relu'))\n",
    "discriminator.add(Dropout(0.25))\n",
    "discriminator.add(Dense(128, activation='relu'))\n",
    "discriminator.add(Dropout(0.25))\n",
    "discriminator.add(Dense(1, activation='sigmoid'))\n",
    "discriminator.summary()\n"
   ]
  },
  {
   "cell_type": "code",
   "execution_count": 10,
   "metadata": {},
   "outputs": [
    {
     "name": "stdout",
     "output_type": "stream",
     "text": [
      "__________________________________________________________________________________________________\n",
      "Layer (type)                    Output Shape         Param #     Connected to                     \n",
      "==================================================================================================\n",
      "input_12 (InputLayer)           (None, 1)            0                                            \n",
      "__________________________________________________________________________________________________\n",
      "input_11 (InputLayer)           (None, 28, 28)       0                                            \n",
      "__________________________________________________________________________________________________\n",
      "embedding_6 (Embedding)         (None, 1, 784)       7840        input_12[0][0]                   \n",
      "__________________________________________________________________________________________________\n",
      "flatten_10 (Flatten)            (None, 784)          0           input_11[0][0]                   \n",
      "__________________________________________________________________________________________________\n",
      "flatten_9 (Flatten)             (None, 784)          0           embedding_6[0][0]                \n",
      "__________________________________________________________________________________________________\n",
      "multiply_6 (Multiply)           (None, 784)          0           flatten_10[0][0]                 \n",
      "                                                                 flatten_9[0][0]                  \n",
      "__________________________________________________________________________________________________\n",
      "sequential_4 (Sequential)       (None, 1)            566273      multiply_6[0][0]                 \n",
      "==================================================================================================\n",
      "Total params: 574,113\n",
      "Trainable params: 574,113\n",
      "Non-trainable params: 0\n",
      "__________________________________________________________________________________________________\n"
     ]
    }
   ],
   "source": [
    "img = Input(shape=img_shape)\n",
    "# 得到標籤的 784 維度表示\n",
    "label = Input(shape=(1,), dtype='int32')\n",
    "label_embedding = Flatten()(Embedding(input_dim=10, output_dim=784)(label))\n",
    "flat_img = Flatten()(img)\n",
    "model_input = multiply([flat_img, label_embedding])\n",
    "validity = discriminator(model_input)\n",
    "cdiscriminator = Model([img, label], validity)\n",
    "cdiscriminator.compile(loss='binary_crossentropy', optimizer=\"adam\")\n",
    "cdiscriminator.summary()"
   ]
  },
  {
   "cell_type": "code",
   "execution_count": 14,
   "metadata": {
    "colab": {
     "base_uri": "https://localhost:8080/",
     "height": 312
    },
    "colab_type": "code",
    "id": "qqa2uN2GoK4b",
    "outputId": "65eb95d8-517f-47ec-a75e-85c990493492"
   },
   "outputs": [
    {
     "name": "stdout",
     "output_type": "stream",
     "text": [
      "__________________________________________________________________________________________________\n",
      "Layer (type)                    Output Shape         Param #     Connected to                     \n",
      "==================================================================================================\n",
      "input_5 (InputLayer)            (None, 100)          0                                            \n",
      "__________________________________________________________________________________________________\n",
      "input_6 (InputLayer)            (None, 1)            0                                            \n",
      "__________________________________________________________________________________________________\n",
      "model_1 (Model)                 (None, 28, 28)       563704      input_5[0][0]                    \n",
      "                                                                 input_6[0][0]                    \n",
      "__________________________________________________________________________________________________\n",
      "model_2 (Model)                 (None, 1)            574113      model_1[1][0]                    \n",
      "                                                                 input_6[0][0]                    \n",
      "==================================================================================================\n",
      "Total params: 1,137,817\n",
      "Trainable params: 562,168\n",
      "Non-trainable params: 575,649\n",
      "__________________________________________________________________________________________________\n"
     ]
    }
   ],
   "source": [
    "# 記得在組合網路的時候必須讓鑑賞家保持不動!\n",
    "cdiscriminator.trainable = False\n",
    "cgan_input = Input(shape=(random_dim,))\n",
    "cgan_label = Input(shape=(1, ))\n",
    "x = cgenerator([cgan_input, cgan_label])\n",
    "cgan_output = cdiscriminator([x, cgan_label])\n",
    "cgan = Model(inputs=[cgan_input, cgan_label], outputs=cgan_output)\n",
    "cgan.compile(loss='binary_crossentropy', optimizer=\"adam\")\n",
    "cgan.summary()"
   ]
  },
  {
   "cell_type": "code",
   "execution_count": 19,
   "metadata": {
    "colab": {
     "base_uri": "https://localhost:8080/",
     "height": 537
    },
    "colab_type": "code",
    "id": "3klx6TTZoN7Y",
    "outputId": "2d4a866f-3a95-4e0c-a275-c6c9a261dccc"
   },
   "outputs": [
    {
     "name": "stdout",
     "output_type": "stream",
     "text": [
      "--------------- epoch 10 ---------------\n",
      "Discriminator loss: 0.5831745862960815\n",
      "Generator loss: 1.2670963\n",
      "--------------- epoch 20 ---------------\n",
      "Discriminator loss: 0.5439196825027466\n",
      "Generator loss: 1.1932579\n",
      "--------------- epoch 30 ---------------\n",
      "Discriminator loss: 0.5193800926208496\n",
      "Generator loss: 1.1459067\n",
      "--------------- epoch 40 ---------------\n",
      "Discriminator loss: 0.588961124420166\n",
      "Generator loss: 1.0838479\n",
      "--------------- epoch 50 ---------------\n",
      "Discriminator loss: 0.5306670665740967\n",
      "Generator loss: 1.1740686\n",
      "--------------- epoch 60 ---------------\n",
      "Discriminator loss: 0.5842047929763794\n",
      "Generator loss: 1.2247632\n",
      "--------------- epoch 70 ---------------\n",
      "Discriminator loss: 0.5230212807655334\n",
      "Generator loss: 1.2086267\n",
      "--------------- epoch 80 ---------------\n",
      "Discriminator loss: 0.5432819128036499\n",
      "Generator loss: 1.2568197\n",
      "--------------- epoch 90 ---------------\n",
      "Discriminator loss: 0.5319997072219849\n",
      "Generator loss: 1.2006314\n",
      "--------------- epoch 100 ---------------\n",
      "Discriminator loss: 0.5373293161392212\n",
      "Generator loss: 1.269484\n"
     ]
    }
   ],
   "source": [
    "batch_size = 200\n",
    "epoch_count = 100\n",
    "\n",
    "for epoch in range(0, epoch_count):\n",
    "    for batch_count in range(0, 300):\n",
    "        idx = np.random.randint(0, x_train.shape[0], batch_size)\n",
    "        imgs = x_train_shaped[idx]\n",
    "        # 不一樣的點在這裡!我們有把訓練資料的標籤拿出來\n",
    "        labels = y_train[idx]\n",
    "        \n",
    "        valid = np.ones((batch_size, 1))\n",
    "        fake = np.zeros((batch_size, 1))\n",
    "        # 步驟0:讓創作家製造出fake image\n",
    "        noise = np.random.normal(0, 1, (batch_size, random_dim))\n",
    "        # 跟普通GAN不一樣, 帶入了標籤部分\n",
    "        gen_imgs = cgenerator.predict([noise, labels])\n",
    "\n",
    "        # 步驟1:讓鑑賞家鑑賞對的image\n",
    "        d_loss_real = cdiscriminator.train_on_batch([imgs, labels], valid)\n",
    "        # 步驟2:讓鑑賞家鑑賞錯的image\n",
    "        d_loss_fake = cdiscriminator.train_on_batch([gen_imgs, labels], fake)\n",
    "        d_loss = (d_loss_real + d_loss_fake) / 2\n",
    "\n",
    "        noise = np.random.normal(0, 1, (batch_size, random_dim))\n",
    "        # 步驟3:訓練創作家的創作能力\n",
    "        g_loss = cgan.train_on_batch([noise, labels], valid)\n",
    "\n",
    "    if (epoch + 1) % 10 == 0:\n",
    "        dash = \"-\" * 15\n",
    "        print(dash, \"epoch\", epoch + 1, dash)\n",
    "        print(\"Discriminator loss:\", d_loss)\n",
    "        print(\"Generator loss:\", g_loss)\n",
    "\n"
   ]
  },
  {
   "cell_type": "code",
   "execution_count": 21,
   "metadata": {
    "colab": {
     "base_uri": "https://localhost:8080/",
     "height": 117
    },
    "colab_type": "code",
    "id": "2bean_-XoQ7A",
    "outputId": "d62afc06-955c-40f4-b853-0a7a18f8d71f"
   },
   "outputs": [
    {
     "data": {
      "image/png": "[encoded data removed]",
      "text/plain": [
       "<Figure size 1008x1008 with 10 Axes>"
      ]
     },
     "metadata": {
      "tags": []
     },
     "output_type": "display_data"
    }
   ],
   "source": [
    "import matplotlib.pyplot as plt\n",
    "%matplotlib inline\n",
    "noise = np.random.normal(0, 1, (10, random_dim))\n",
    "sampled_labels = np.arange(0, 10).reshape(-1, 1)\n",
    "\n",
    "gen_imgs = cgenerator.predict([noise, sampled_labels])\n",
    "\n",
    "# Rescale images 0 - 1\n",
    "gen_imgs = 0.5 * gen_imgs + 0.5\n",
    "gen_imgs = gen_imgs.reshape(10, 28, 28)\n",
    "plt.figure(figsize = (14, 14))\n",
    "# range(0, 10)產生出十種不同label(0 - 9) 針對性的產生我們要的數字\n",
    "for i in range(0, 10):\n",
    "    plt.subplot(1, 10, i + 1)\n",
    "    plt.axis(\"off\")\n",
    "    plt.imshow(gen_imgs[i], cmap='gray')"
   ]
  }
 ],
 "metadata": {
  "colab": {
   "name": "CGAN_Colab.ipynb",
   "provenance": [],
   "version": "0.3.2"
  },
  "kernelspec": {
   "display_name": "Python 3",
   "language": "python",
   "name": "python3"
  },
  "language_info": {
   "codemirror_mode": {
    "name": "ipython",
    "version": 3
   },
   "file_extension": ".py",
   "mimetype": "text/x-python",
   "name": "python",
   "nbconvert_exporter": "python",
   "pygments_lexer": "ipython3",
   "version": "3.6.0"
  }
 },
 "nbformat": 4,
 "nbformat_minor": 1
}
