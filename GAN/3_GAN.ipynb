{
 "cells": [
  {
   "cell_type": "code",
   "execution_count": 0,
   "metadata": {
    "colab": {},
    "colab_type": "code",
    "id": "nB1PxYrIOTvS"
   },
   "outputs": [],
   "source": [
    "# 我們會從https下載資料庫, MAC電腦需要加入以下兩行, 才不會把對方的ssl憑證視為無效\n",
    "import ssl\n",
    "ssl._create_default_https_context = ssl._create_unverified_context"
   ]
  },
  {
   "cell_type": "code",
   "execution_count": 0,
   "metadata": {
    "colab": {},
    "colab_type": "code",
    "id": "mBdTlq0BOfHN"
   },
   "outputs": [],
   "source": [
    "from keras.datasets import mnist\n",
    "# 回傳值: ((訓練特徵, 訓練目標), (測試特徵, 測試目標))\n",
    "(x_train, y_train),(x_test, y_test) = mnist.load_data()"
   ]
  },
  {
   "cell_type": "code",
   "execution_count": 12,
   "metadata": {
    "colab": {
     "base_uri": "https://localhost:8080/",
     "height": 35
    },
    "colab_type": "code",
    "id": "bRzT7lfkOhbd",
    "outputId": "9e732913-0cb0-4b08-b40a-ebcc1ac16aa1"
   },
   "outputs": [
    {
     "data": {
      "text/plain": [
       "(60000, 28, 28)"
      ]
     },
     "execution_count": 12,
     "metadata": {
      "tags": []
     },
     "output_type": "execute_result"
    }
   ],
   "source": [
    "x_train.shape"
   ]
  },
  {
   "cell_type": "code",
   "execution_count": 0,
   "metadata": {
    "colab": {},
    "colab_type": "code",
    "id": "MWKAkaD2Ojft"
   },
   "outputs": [],
   "source": [
    "from keras.utils import np_utils\n",
    "# reshape讓他從 32 * 32變成 784 * 1的一維陣列\n",
    "# 讓我們標準化到-1~1區間\n",
    "# 要不要轉化成為float32都可以\n",
    "x_train_shaped = (x_train.reshape(60000, 784).astype(\"float32\") - 127.5)/127.5\n",
    "x_test_shaped = (x_test.reshape(10000, 784).astype(\"float32\") - 127.5)/127.5"
   ]
  },
  {
   "cell_type": "code",
   "execution_count": 14,
   "metadata": {
    "colab": {
     "base_uri": "https://localhost:8080/",
     "height": 312
    },
    "colab_type": "code",
    "id": "xqQS0y4DOwoK",
    "outputId": "d13152c6-039e-4ddb-e4b3-f98352e47d63"
   },
   "outputs": [
    {
     "name": "stdout",
     "output_type": "stream",
     "text": [
      "_________________________________________________________________\n",
      "Layer (type)                 Output Shape              Param #   \n",
      "=================================================================\n",
      "dense_8 (Dense)              (None, 256)               25856     \n",
      "_________________________________________________________________\n",
      "batch_normalization_3 (Batch (None, 256)               1024      \n",
      "_________________________________________________________________\n",
      "dense_9 (Dense)              (None, 512)               131584    \n",
      "_________________________________________________________________\n",
      "batch_normalization_4 (Batch (None, 512)               2048      \n",
      "_________________________________________________________________\n",
      "dense_10 (Dense)             (None, 784)               402192    \n",
      "=================================================================\n",
      "Total params: 562,704\n",
      "Trainable params: 561,168\n",
      "Non-trainable params: 1,536\n",
      "_________________________________________________________________\n"
     ]
    }
   ],
   "source": [
    "from keras.models import Sequential\n",
    "from keras.layers import Dense, BatchNormalization\n",
    "\n",
    "# Generator: 反向MLP\n",
    "# 隨機輸入的位置個數\n",
    "random_dim = 100\n",
    "# 這裡我採用每一層是上一層的兩倍神經元(類似VGG)的概念\n",
    "# 並不是一定, 讀者可以根據自己的喜好調整\n",
    "generator = Sequential()\n",
    "generator.add(Dense(256, input_dim=random_dim, \n",
    "                    activation='relu'))\n",
    "# 加上BN, 讓每一層輸入都標準化過\n",
    "generator.add(BatchNormalization())\n",
    "generator.add(Dense(512, activation='relu'))\n",
    "generator.add(BatchNormalization())\n",
    "generator.add(Dense(784, activation='tanh'))\n",
    "# 我們從不單獨訓練generator, 只會接起來訓練, 所以不compile\n",
    "generator.summary()"
   ]
  },
  {
   "cell_type": "code",
   "execution_count": 15,
   "metadata": {
    "colab": {
     "base_uri": "https://localhost:8080/",
     "height": 381
    },
    "colab_type": "code",
    "id": "eKGhP_lkO4Tp",
    "outputId": "ea83bcd0-969d-42cc-9ac6-0ad49e32c997"
   },
   "outputs": [
    {
     "name": "stdout",
     "output_type": "stream",
     "text": [
      "_________________________________________________________________\n",
      "Layer (type)                 Output Shape              Param #   \n",
      "=================================================================\n",
      "dense_11 (Dense)             (None, 1024)              803840    \n",
      "_________________________________________________________________\n",
      "dropout_4 (Dropout)          (None, 1024)              0         \n",
      "_________________________________________________________________\n",
      "dense_12 (Dense)             (None, 512)               524800    \n",
      "_________________________________________________________________\n",
      "dropout_5 (Dropout)          (None, 512)               0         \n",
      "_________________________________________________________________\n",
      "dense_13 (Dense)             (None, 256)               131328    \n",
      "_________________________________________________________________\n",
      "dropout_6 (Dropout)          (None, 256)               0         \n",
      "_________________________________________________________________\n",
      "dense_14 (Dense)             (None, 1)                 257       \n",
      "=================================================================\n",
      "Total params: 1,460,225\n",
      "Trainable params: 1,460,225\n",
      "Non-trainable params: 0\n",
      "_________________________________________________________________\n"
     ]
    }
   ],
   "source": [
    "from keras.layers import Dropout\n",
    "\n",
    "discriminator = Sequential()\n",
    "discriminator.add(Dense(1024, input_dim=784, \n",
    "                        activation='relu'))\n",
    "# 加上Dropout防止過擬和\n",
    "discriminator.add(Dropout(0.25))\n",
    "discriminator.add(Dense(512, activation='relu'))\n",
    "discriminator.add(Dropout(0.25))\n",
    "discriminator.add(Dense(256, activation='relu'))\n",
    "discriminator.add(Dropout(0.25))\n",
    "# 最後只輸出一個神經元, 意味著是真的機率, 所以採用sigmoid函數\n",
    "# 1: 100%為真 \n",
    "# 0:   0%為真(偽)\n",
    "discriminator.add(Dense(1, activation='sigmoid'))\n",
    "# 在我們的兩個步驟的第一步, 會訓練discrinminator, 所以需要compile\n",
    "discriminator.compile(loss='binary_crossentropy', optimizer=\"adam\")\n",
    "discriminator.summary()"
   ]
  },
  {
   "cell_type": "code",
   "execution_count": 16,
   "metadata": {
    "colab": {
     "base_uri": "https://localhost:8080/",
     "height": 243
    },
    "colab_type": "code",
    "id": "nsBSSwwtO-7w",
    "outputId": "ce0dfa6d-cb91-4591-84f3-bef92a057fe9"
   },
   "outputs": [
    {
     "name": "stdout",
     "output_type": "stream",
     "text": [
      "_________________________________________________________________\n",
      "Layer (type)                 Output Shape              Param #   \n",
      "=================================================================\n",
      "input_2 (InputLayer)         (None, 100)               0         \n",
      "_________________________________________________________________\n",
      "sequential_3 (Sequential)    (None, 784)               562704    \n",
      "_________________________________________________________________\n",
      "sequential_4 (Sequential)    (None, 1)                 1460225   \n",
      "=================================================================\n",
      "Total params: 2,022,929\n",
      "Trainable params: 561,168\n",
      "Non-trainable params: 1,461,761\n",
      "_________________________________________________________________\n"
     ]
    }
   ],
   "source": [
    "from keras.models import Model\n",
    "from keras.layers import Input\n",
    "# 先將discriminator固定住\n",
    "discriminator.trainable = False\n",
    "# 這裡我們要組合模型必須使用Model來創建\n",
    "# 先準備Input Layer\n",
    "gan_input = Input(shape=(random_dim,))\n",
    "# 經過創作家\n",
    "x = generator(gan_input)\n",
    "# 再將輸出當成鑑賞家的輸入\n",
    "gan_output = discriminator(x)\n",
    "# 創建最後的模型, 輸入和輸出依照上面的圖設定好\n",
    "gan = Model(inputs=gan_input, outputs=gan_output)\n",
    "gan.compile(loss='binary_crossentropy', optimizer=\"adam\")\n",
    "gan.summary()"
   ]
  },
  {
   "cell_type": "code",
   "execution_count": 34,
   "metadata": {
    "colab": {
     "base_uri": "https://localhost:8080/",
     "height": 537
    },
    "colab_type": "code",
    "id": "xmDhpLtwPB6w",
    "outputId": "82de9dfc-3b3f-4e7f-9c59-ef0e75710564"
   },
   "outputs": [
    {
     "name": "stdout",
     "output_type": "stream",
     "text": [
      "--------------- epoch 10 ---------------\n",
      "Discriminator loss: 0.5364364385604858\n",
      "Generator loss: 1.1371174\n",
      "--------------- epoch 20 ---------------\n",
      "Discriminator loss: 0.5408498048782349\n",
      "Generator loss: 1.0774026\n",
      "--------------- epoch 30 ---------------\n",
      "Discriminator loss: 0.5115633606910706\n",
      "Generator loss: 1.1282328\n",
      "--------------- epoch 40 ---------------\n",
      "Discriminator loss: 0.5817527174949646\n",
      "Generator loss: 1.208801\n",
      "--------------- epoch 50 ---------------\n",
      "Discriminator loss: 0.5543758869171143\n",
      "Generator loss: 1.1865461\n",
      "--------------- epoch 60 ---------------\n",
      "Discriminator loss: 0.5335442423820496\n",
      "Generator loss: 1.1673869\n",
      "--------------- epoch 70 ---------------\n",
      "Discriminator loss: 0.551646888256073\n",
      "Generator loss: 1.1927693\n",
      "--------------- epoch 80 ---------------\n",
      "Discriminator loss: 0.5925135612487793\n",
      "Generator loss: 1.1967777\n",
      "--------------- epoch 90 ---------------\n",
      "Discriminator loss: 0.5677541494369507\n",
      "Generator loss: 1.1523602\n",
      "--------------- epoch 100 ---------------\n",
      "Discriminator loss: 0.5547364950180054\n",
      "Generator loss: 1.0822356\n"
     ]
    }
   ],
   "source": [
    "import numpy as np\n",
    "# batch: 200個圖片做一次梯度更新\n",
    "batch_size = 200\n",
    "# epoch: 總共看過 100次資料集\n",
    "epoch_count = 100\n",
    "# range會幫我們產生 0~99 的數字\n",
    "for epoch in range(0, epoch_count):\n",
    "    for batch_count in range(0, 300):\n",
    "        # 隨機出200個0-59999(x_train.shape[0] - 1)的整數\n",
    "        # 這裡要注意一下np.random.randint的第二個數字是不包括的\n",
    "        idx = np.random.randint(0, x_train.shape[0], batch_size)\n",
    "        # 拿出對應的圖片\n",
    "        imgs = x_train_shaped[idx]\n",
    "        # 準備好200個1\n",
    "        valid = np.ones((batch_size, 1))\n",
    "        # 準備好200個0\n",
    "        fake = np.zeros((batch_size, 1))\n",
    "        # 步驟0: 隨機靈感(利用常態分布來產生)\n",
    "        noise = np.random.normal(0, 1, (batch_size, random_dim))\n",
    "        gen_imgs = generator.predict(noise)\n",
    "\n",
    "        # 步驟1-1:讓鑑賞家鑑賞對的image\n",
    "        d_loss_real = discriminator.train_on_batch(imgs, valid)\n",
    "        # 步驟1-2:讓鑑賞家鑑賞錯的image\n",
    "        d_loss_fake = discriminator.train_on_batch(gen_imgs, fake)\n",
    "        # loss為上方兩個小步驟平均\n",
    "        d_loss = (d_loss_real + d_loss_fake) / 2\n",
    "\n",
    "        # 重新準備一次靈感\n",
    "        noise = np.random.normal(0, 1, (batch_size, random_dim))\n",
    "        # 步驟2:訓練創作家的創作能力\n",
    "        # 因為創作者希望他的作品能被discriminator視為真, 所以傳遞valid進去\n",
    "        # 讓generator的weight可以往對的方向調整\n",
    "        g_loss = gan.train_on_batch(noise, valid)\n",
    "    # 因為100epoch印製起來太多, 所以我十個印一次\n",
    "    if (epoch + 1) % 10 == 0:\n",
    "        dash = \"-\" * 15\n",
    "        print(dash, \"epoch\", epoch + 1, dash)\n",
    "        print(\"Discriminator loss:\", d_loss)\n",
    "        print(\"Generator loss:\", g_loss)\n"
   ]
  },
  {
   "cell_type": "code",
   "execution_count": 40,
   "metadata": {
    "colab": {
     "base_uri": "https://localhost:8080/",
     "height": 185
    },
    "colab_type": "code",
    "id": "sPdjF5tVPJ2v",
    "outputId": "5b862861-c5b6-4ea3-fd79-3197a3936c62"
   },
   "outputs": [
    {
     "data": {
      "image/png": "[encoded data removed]",
      "text/plain": [
       "<Figure size 1008x1008 with 5 Axes>"
      ]
     },
     "metadata": {
      "tags": []
     },
     "output_type": "display_data"
    }
   ],
   "source": [
    "import matplotlib.pyplot as plt\n",
    "%matplotlib inline\n",
    "# 拿出5個examples\n",
    "examples = 5\n",
    "# 準備五個靈感\n",
    "noise = np.random.normal(0, 1, (examples, random_dim))\n",
    "# 使用創作者開始創作\n",
    "gen_imgs = generator.predict(noise)\n",
    "\n",
    "# 這裡要注意一下, 必須讓-1-1回到0-1才能被正確印出來\n",
    "gen_imgs = 0.5 * gen_imgs + 0.5\n",
    "# reshape成為圖片\n",
    "gen_imgs = gen_imgs.reshape(examples, 28, 28)\n",
    "# 設定一下完整畫布大小\n",
    "plt.figure(figsize = (14, 14))\n",
    "for i in range(0, examples):\n",
    "    # 將大圖分成1 * 5五小圖, 編號分別為\n",
    "    # 1, 2, 3, 4, 5\n",
    "    # 所以i必須+1來得到相對應的小圖\n",
    "    plt.subplot(1, examples, i + 1)\n",
    "    # 不打印座標軸\n",
    "    plt.axis('off')\n",
    "    # 秀出圖片\n",
    "    plt.imshow(gen_imgs[i], cmap='gray')"
   ]
  },
  {
   "cell_type": "code",
   "execution_count": null,
   "metadata": {
    "colab": {
     "base_uri": "https://localhost:8080/",
     "height": 35
    },
    "colab_type": "code",
    "id": "2S1UZuhGkYf9",
    "outputId": "27a67955-ecf3-4909-faaf-9a0b644685e1"
   },
   "outputs": [],
   "source": [
    "# 如果你使用colab\n",
    "from google.colab import drive\n",
    "drive.mount('/gdrive')\n",
    "generator.save('/gdrive/My Drive/keras/gan/gan_gen.h5')\n",
    "discriminator.save('/gdrive/My Drive/keras/gan/gan_dis.h5')"
   ]
  }
 ],
 "metadata": {
  "accelerator": "GPU",
  "colab": {
   "collapsed_sections": [],
   "name": "GAN_colab.ipynb",
   "provenance": [],
   "version": "0.3.2"
  },
  "kernelspec": {
   "display_name": "Python 3",
   "language": "python",
   "name": "python3"
  },
  "language_info": {
   "codemirror_mode": {
    "name": "ipython",
    "version": 3
   },
   "file_extension": ".py",
   "mimetype": "text/x-python",
   "name": "python",
   "nbconvert_exporter": "python",
   "pygments_lexer": "ipython3",
   "version": "3.6.0"
  }
 },
 "nbformat": 4,
 "nbformat_minor": 1
}
