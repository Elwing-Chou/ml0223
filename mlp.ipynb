{
  "nbformat": 4,
  "nbformat_minor": 0,
  "metadata": {
    "colab": {
      "name": "mlp.ipynb",
      "private_outputs": true,
      "provenance": [],
      "authorship_tag": "ABX9TyNVnQiMFwyzAi8kXZKbDNFS",
      "include_colab_link": true
    },
    "kernelspec": {
      "name": "python3",
      "display_name": "Python 3"
    }
  },
  "cells": [
    {
      "cell_type": "markdown",
      "metadata": {
        "id": "view-in-github",
        "colab_type": "text"
      },
      "source": [
        "<a href=\"https://colab.research.google.com/github/Elwing-Chou/ml0223/blob/main/mlp.ipynb\" target=\"_parent\"><img src=\"https://colab.research.google.com/assets/colab-badge.svg\" alt=\"Open In Colab\"/></a>"
      ]
    },
    {
      "cell_type": "code",
      "metadata": {
        "id": "ApOoSChOtKJa"
      },
      "source": [
        "from tensorflow.keras.datasets.mnist import load_data\r\n",
        "# ((x_train, y_train), (x_test, y_test))\r\n",
        "(x_train, y_train), (x_test, y_test) = load_data()"
      ],
      "execution_count": null,
      "outputs": []
    },
    {
      "cell_type": "code",
      "metadata": {
        "id": "hL-_t0thuWgc"
      },
      "source": [
        "print(x_train.shape)\r\n",
        "print(y_train.shape)\r\n",
        "print(x_test.shape)\r\n",
        "print(y_test.shape)"
      ],
      "execution_count": null,
      "outputs": []
    },
    {
      "cell_type": "code",
      "metadata": {
        "id": "KplwedUSvSDF"
      },
      "source": [
        "# https://matplotlib.org/stable/tutorials/colors/colormaps.html\r\n",
        "# reverse:_r\r\n",
        "import matplotlib.pyplot as plt\r\n",
        "plt.imshow(x_train[0], cmap=\"gray\")"
      ],
      "execution_count": null,
      "outputs": []
    },
    {
      "cell_type": "code",
      "metadata": {
        "id": "cBHPgr9FwWcL"
      },
      "source": [
        "import pandas as pd\r\n",
        "pd.DataFrame(x_train[0])"
      ],
      "execution_count": null,
      "outputs": []
    },
    {
      "cell_type": "code",
      "metadata": {
        "id": "7ewQUuZ13H8J"
      },
      "source": [
        "from tensorflow.keras.models import Sequential\r\n",
        "from tensorflow.keras.layers import Dense\r\n",
        "layers = [\r\n",
        "    # 784 * 128 + 128(bias)\r\n",
        "    Dense(128, activation=\"relu\", input_dim=784),\r\n",
        "    # 128 * 10 + 10(bias)\r\n",
        "    Dense(10, activation=\"softmax\")\r\n",
        "]\r\n",
        "model = Sequential(layers)\r\n",
        "model.summary()"
      ],
      "execution_count": null,
      "outputs": []
    },
    {
      "cell_type": "code",
      "metadata": {
        "id": "JriCnc70A2Xz"
      },
      "source": [
        "# 一個神經元(兩個機率): BinaryCrossEntropy\r\n",
        "# 多個神經元: pilog(1/qi): CategoricalCrossEntropy\r\n",
        "from tensorflow.keras.losses import CategoricalCrossentropy\r\n",
        "model.compile(loss=CategoricalCrossentropy(),\r\n",
        "       metrics=[\"accuracy\"],\r\n",
        "       optimizer=\"adam\")"
      ],
      "execution_count": null,
      "outputs": []
    },
    {
      "cell_type": "code",
      "metadata": {
        "id": "DqYoYDJhbe5n"
      },
      "source": [
        "from tensorflow.keras.utils import to_categorical\r\n",
        "y_train_cat = to_categorical(y_train, 10)\r\n",
        "y_test_cat = to_categorical(y_test, 10)\r\n",
        "print(y_train[0])\r\n",
        "print(y_train_cat[0])"
      ],
      "execution_count": null,
      "outputs": []
    },
    {
      "cell_type": "code",
      "metadata": {
        "id": "lRMgVpEkcO2F"
      },
      "source": [
        ""
      ],
      "execution_count": null,
      "outputs": []
    }
  ]
}