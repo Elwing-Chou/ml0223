{
  "nbformat": 4,
  "nbformat_minor": 0,
  "metadata": {
    "colab": {
      "name": "mlp.ipynb",
      "private_outputs": true,
      "provenance": [],
      "authorship_tag": "ABX9TyNXfRWenC/0jHueiUh8Dm8C",
      "include_colab_link": true
    },
    "kernelspec": {
      "name": "python3",
      "display_name": "Python 3"
    }
  },
  "cells": [
    {
      "cell_type": "markdown",
      "metadata": {
        "id": "view-in-github",
        "colab_type": "text"
      },
      "source": [
        "<a href=\"https://colab.research.google.com/github/Elwing-Chou/ml0223/blob/main/mlp.ipynb\" target=\"_parent\"><img src=\"https://colab.research.google.com/assets/colab-badge.svg\" alt=\"Open In Colab\"/></a>"
      ]
    },
    {
      "cell_type": "code",
      "metadata": {
        "id": "ApOoSChOtKJa"
      },
      "source": [
        "from tensorflow.keras.datasets.mnist import load_data\r\n",
        "# ((x_train, y_train), (x_test, y_test))\r\n",
        "(x_train, y_train), (x_test, y_test) = load_data()"
      ],
      "execution_count": null,
      "outputs": []
    },
    {
      "cell_type": "code",
      "metadata": {
        "id": "hL-_t0thuWgc"
      },
      "source": [
        "print(x_train.shape)\r\n",
        "print(y_train.shape)\r\n",
        "print(x_test.shape)\r\n",
        "print(y_test.shape)"
      ],
      "execution_count": null,
      "outputs": []
    },
    {
      "cell_type": "code",
      "metadata": {
        "id": "KplwedUSvSDF"
      },
      "source": [
        "# https://matplotlib.org/stable/tutorials/colors/colormaps.html\r\n",
        "# reverse:_r\r\n",
        "import matplotlib.pyplot as plt\r\n",
        "plt.imshow(x_train[0], cmap=\"gray\")"
      ],
      "execution_count": null,
      "outputs": []
    },
    {
      "cell_type": "code",
      "metadata": {
        "id": "cBHPgr9FwWcL"
      },
      "source": [
        "import pandas as pd\r\n",
        "pd.DataFrame(x_train[0])"
      ],
      "execution_count": null,
      "outputs": []
    },
    {
      "cell_type": "code",
      "metadata": {
        "id": "7ewQUuZ13H8J"
      },
      "source": [
        "from tensorflow.keras.models import Sequential\r\n",
        "from tensorflow.keras.layers import Dense\r\n",
        "layers = [\r\n",
        "    # 784 * 256 + 256(bias)\r\n",
        "    Dense(256, activation=\"relu\", input_dim=784),\r\n",
        "    # 128 * 10 + 10(bias)\r\n",
        "    Dense(10, activation=\"softmax\")\r\n",
        "]\r\n",
        "model = Sequential(layers)\r\n",
        "model.summary()"
      ],
      "execution_count": null,
      "outputs": []
    },
    {
      "cell_type": "code",
      "metadata": {
        "id": "JriCnc70A2Xz"
      },
      "source": [
        "# 一個神經元(兩個機率): BinaryCrossEntropy\r\n",
        "# 多個神經元: pilog(1/qi): CategoricalCrossEntropy\r\n",
        "from tensorflow.keras.losses import CategoricalCrossentropy\r\n",
        "model.compile(loss=CategoricalCrossentropy(),\r\n",
        "       metrics=[\"accuracy\"],\r\n",
        "       optimizer=\"adam\")"
      ],
      "execution_count": null,
      "outputs": []
    },
    {
      "cell_type": "code",
      "metadata": {
        "id": "DqYoYDJhbe5n"
      },
      "source": [
        "from tensorflow.keras.utils import to_categorical\r\n",
        "y_train_cat = to_categorical(y_train, 10)\r\n",
        "y_test_cat = to_categorical(y_test, 10)\r\n",
        "print(y_train[0])\r\n",
        "print(y_train_cat[0])"
      ],
      "execution_count": null,
      "outputs": []
    },
    {
      "cell_type": "code",
      "metadata": {
        "id": "lRMgVpEkcO2F"
      },
      "source": [
        "x_train_shape = x_train.reshape(-1, 784) / 255.0\r\n",
        "x_test_shape = x_test.reshape(-1, 784) / 255.0"
      ],
      "execution_count": null,
      "outputs": []
    },
    {
      "cell_type": "code",
      "metadata": {
        "id": "XyO8U5ot7H_4"
      },
      "source": [
        "from tensorflow.keras.callbacks import EarlyStopping\r\n",
        "callbacks = [\r\n",
        "   EarlyStopping(patience=5, restore_best_weights=True) \r\n",
        "]\r\n",
        "model.fit(x_train_shape,\r\n",
        "     y_train_cat,\r\n",
        "     batch_size=200,\r\n",
        "     epochs=50,\r\n",
        "     validation_split=0.1,\r\n",
        "     verbose=2,\r\n",
        "     callbacks=callbacks)"
      ],
      "execution_count": null,
      "outputs": []
    },
    {
      "cell_type": "code",
      "metadata": {
        "id": "6-Ov9AffDch3"
      },
      "source": [
        "model.evaluate(x_test_shape, y_test_cat)"
      ],
      "execution_count": null,
      "outputs": []
    },
    {
      "cell_type": "code",
      "metadata": {
        "id": "aBXeIHbQ7IBH"
      },
      "source": [
        "from sklearn.metrics import confusion_matrix\r\n",
        "# sklearn: predict_proba/predict\r\n",
        "# tensorflow: predict/predict_classes\r\n",
        "pre = model.predict_classes(x_test_shape)\r\n",
        "mat = confusion_matrix(y_test, pre)\r\n",
        "pd.DataFrame(mat,\r\n",
        "       columns=[str(i) + \"(預測)\" for i in range(10)],\r\n",
        "       index=[str(i) + \"(正確)\" for i in range(10)])"
      ],
      "execution_count": null,
      "outputs": []
    },
    {
      "cell_type": "code",
      "metadata": {
        "id": "Q5az3LqvFo8x"
      },
      "source": [
        "import numpy as np\r\n",
        "idx = np.nonzero(pre != y_test)[0]\r\n",
        "false_img = x_test[idx]\r\n",
        "false_pre = pre[idx]\r\n",
        "false_label = y_test[idx]\r\n",
        "plt.figure(figsize=(14, 42))\r\n",
        "width = 10\r\n",
        "height = len(idx) // width + 1\r\n",
        "for i in range(len(idx)):\r\n",
        "    plt.subplot(height, width, i+1)\r\n",
        "    plt.imshow(false_img[i])\r\n",
        "    t = \"[O]:{}\\n[P]:{}\".format(false_label[i], false_pre[i])\r\n",
        "    plt.title(t)\r\n",
        "    plt.axis(\"off\")"
      ],
      "execution_count": null,
      "outputs": []
    },
    {
      "cell_type": "code",
      "metadata": {
        "id": "QIbayo3tJOde"
      },
      "source": [
        "# Pillow\r\n",
        "from PIL import Image\r\n",
        "# RGB, RGBA, L(gray)\r\n",
        "fn = input(\"輸入檔名:\")\r\n",
        "img = Image.open(fn).resize((28, 28)).convert(\"L\")\r\n",
        "img_np = np.array(img)\r\n",
        "img_np_r = img_np.reshape(1, 784)\r\n",
        "proba = model.predict(img_np_r)[0]\r\n",
        "for i in range(10):\r\n",
        "    print(i, \"的機率:\", proba[i])\r\n",
        "ans = model.predict_classes(img_np_r)[0]\r\n",
        "print(\"答案:\", ans)\r\n",
        "plt.imshow(img_np)"
      ],
      "execution_count": null,
      "outputs": []
    }
  ]
}