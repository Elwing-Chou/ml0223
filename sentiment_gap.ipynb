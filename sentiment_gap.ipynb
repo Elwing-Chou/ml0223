{
  "nbformat": 4,
  "nbformat_minor": 0,
  "metadata": {
    "colab": {
      "name": "sentiment_gap.ipynb",
      "private_outputs": true,
      "provenance": [],
      "authorship_tag": "ABX9TyOui4GTpQy0/RcDLvQ4OHNY",
      "include_colab_link": true
    },
    "kernelspec": {
      "name": "python3",
      "display_name": "Python 3"
    },
    "language_info": {
      "name": "python"
    },
    "accelerator": "GPU"
  },
  "cells": [
    {
      "cell_type": "markdown",
      "metadata": {
        "id": "view-in-github",
        "colab_type": "text"
      },
      "source": [
        "<a href=\"https://colab.research.google.com/github/Elwing-Chou/ml0223/blob/main/sentiment_gap.ipynb\" target=\"_parent\"><img src=\"https://colab.research.google.com/assets/colab-badge.svg\" alt=\"Open In Colab\"/></a>"
      ]
    },
    {
      "cell_type": "code",
      "metadata": {
        "id": "pVXzvvyDIm8A"
      },
      "source": [
        "import tensorflow as tf\n",
        "\n",
        "dataset = tf.keras.utils.get_file(\n",
        "    fname=\"aclImdb.tar.gz\", \n",
        "    origin=\"http://ai.stanford.edu/~amaas/data/sentiment/aclImdb_v1.tar.gz\", \n",
        "    extract=True,\n",
        ")"
      ],
      "execution_count": null,
      "outputs": []
    },
    {
      "cell_type": "code",
      "metadata": {
        "id": "4gIfUmfAKD4B"
      },
      "source": [
        "import glob\n",
        "import os\n",
        "dn = os.path.dirname(dataset)\n",
        "fn = glob.glob(dn + \"/aclImdb/train/pos/*\")\n",
        "with open(fn[0], \"r\", encoding=\"utf-8\") as f:\n",
        "    print(\"pos:\", f.read())\n",
        "fn = glob.glob(dn + \"/aclImdb/train/neg/*\")\n",
        "with open(fn[0], \"r\", encoding=\"utf-8\") as f:\n",
        "    print(\"neg:\", f.read())"
      ],
      "execution_count": null,
      "outputs": []
    },
    {
      "cell_type": "code",
      "metadata": {
        "id": "_KSyOhByN3IV"
      },
      "source": [
        "import pandas as pd\n",
        "def getdata(base):\n",
        "    datas = {\"article\":[], \"ans\":[]}\n",
        "    targets = os.path.join(base, \"pos\", \"*\")\n",
        "    for fn in glob.glob(targets):\n",
        "        with open(fn, \"r\", encoding=\"utf-8\") as f:\n",
        "            datas[\"article\"].append(f.read())\n",
        "            datas[\"ans\"].append(1)\n",
        "    targets = os.path.join(base, \"neg\", \"*\")\n",
        "    for fn in glob.glob(targets):\n",
        "        with open(fn, \"r\", encoding=\"utf-8\") as f:\n",
        "            datas[\"article\"].append(f.read())\n",
        "            datas[\"ans\"].append(0)\n",
        "    return pd.DataFrame(datas)\n",
        "train = os.path.join(dn, \"aclImdb\", \"train\")\n",
        "train_df = getdata(train)\n",
        "test = os.path.join(dn, \"aclImdb\", \"test\")\n",
        "test_df = getdata(test)"
      ],
      "execution_count": null,
      "outputs": []
    },
    {
      "cell_type": "code",
      "metadata": {
        "id": "CivCTri3OsWx"
      },
      "source": [
        "train_df[\"article\"][0]"
      ],
      "execution_count": null,
      "outputs": []
    },
    {
      "cell_type": "code",
      "metadata": {
        "id": "a09Aa5OiaYE3"
      },
      "source": [
        "# Tokenize: I -> 1 love -> 2 you -> 3\n",
        "from tensorflow.keras.preprocessing.text import Tokenizer\n",
        "tok = Tokenizer(num_words=3000)\n",
        "tok.fit_on_texts(train_df[\"article\"])\n",
        "x_train_seq = tok.texts_to_sequences(train_df[\"article\"])\n",
        "x_test_seq = tok.texts_to_sequences(test_df[\"article\"])"
      ],
      "execution_count": null,
      "outputs": []
    },
    {
      "cell_type": "code",
      "metadata": {
        "id": "McUYZ7Mydmgz"
      },
      "source": [
        "# tok.word_index, 0不會用到, 0 for padding\n",
        "tok.index_word[19]\n",
        "# 有東西消失是因為超過三千最常出現單字\n",
        "tok.sequences_to_texts(x_train_seq)[0]"
      ],
      "execution_count": null,
      "outputs": []
    },
    {
      "cell_type": "code",
      "metadata": {
        "id": "qiir1EuvdYyY"
      },
      "source": [
        "pd.DataFrame(x_train_seq)"
      ],
      "execution_count": null,
      "outputs": []
    },
    {
      "cell_type": "code",
      "metadata": {
        "id": "HnLJBjwLDK7w"
      },
      "source": [
        "# 個人覺得512 1024差不多\n",
        "MAXLEN = 512"
      ],
      "execution_count": null,
      "outputs": []
    },
    {
      "cell_type": "code",
      "metadata": {
        "id": "60y8FZWqhbpi"
      },
      "source": [
        "from tensorflow.keras.preprocessing.sequence import pad_sequences\n",
        "x_train_pad = pad_sequences(x_train_seq, maxlen=MAXLEN)\n",
        "x_test_pad = pad_sequences(x_test_seq, maxlen=MAXLEN)"
      ],
      "execution_count": null,
      "outputs": []
    },
    {
      "cell_type": "code",
      "metadata": {
        "id": "1M-ooCpwhrPO"
      },
      "source": [
        "pd.DataFrame(x_train_pad)"
      ],
      "execution_count": null,
      "outputs": []
    },
    {
      "cell_type": "code",
      "metadata": {
        "id": "-IIYjpMfkpkJ"
      },
      "source": [
        "from tensorflow.keras.models import Sequential\n",
        "from tensorflow.keras.layers import Flatten, Dense, Dropout\n",
        "from tensorflow.keras.layers import Embedding, GlobalAveragePooling1D\n",
        "layers = [\n",
        "    Embedding(3001, 128, mask_zero=True, input_length=MAXLEN),\n",
        "    GlobalAveragePooling1D(),\n",
        "    Dense(2, activation=\"softmax\")\n",
        "]\n",
        "model = Sequential(layers)\n",
        "model.summary()"
      ],
      "execution_count": null,
      "outputs": []
    },
    {
      "cell_type": "code",
      "metadata": {
        "id": "P6MWWi08B-1n"
      },
      "source": [
        "\n",
        "# 不需要自己做one-hot\n",
        "from tensorflow.keras.losses import SparseCategoricalCrossentropy\n",
        "model.compile(loss=SparseCategoricalCrossentropy(),\n",
        "       optimizer=\"adam\",\n",
        "       metrics=[\"accuracy\"])"
      ],
      "execution_count": null,
      "outputs": []
    },
    {
      "cell_type": "code",
      "metadata": {
        "id": "-04oslztCSlc"
      },
      "source": [
        "import numpy as np\n",
        "y_train = np.array(train_df[\"ans\"])\n",
        "y_test = np.array(test_df[\"ans\"])"
      ],
      "execution_count": null,
      "outputs": []
    },
    {
      "cell_type": "code",
      "metadata": {
        "id": "XgvzGuWSCH5i"
      },
      "source": [
        "from tensorflow.keras.callbacks import EarlyStopping, ModelCheckpoint\n",
        "callbacks = [\n",
        "   EarlyStopping(patience=5, restore_best_weights=True),\n",
        "   ModelCheckpoint(\"sentiment.h5\", save_best_only=True)\n",
        "]\n",
        "model.fit(x_train_pad,\n",
        "     y_train,\n",
        "     batch_size=200,\n",
        "     epochs=50,\n",
        "     validation_split=0.1,\n",
        "     verbose=2,\n",
        "     callbacks=callbacks)"
      ],
      "execution_count": null,
      "outputs": []
    },
    {
      "cell_type": "code",
      "metadata": {
        "id": "BBwgkjfCC5Do"
      },
      "source": [
        "model.evaluate(x_test_pad, y_test)"
      ],
      "execution_count": null,
      "outputs": []
    }
  ]
}