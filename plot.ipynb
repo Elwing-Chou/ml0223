{
  "nbformat": 4,
  "nbformat_minor": 0,
  "metadata": {
    "colab": {
      "name": "plot.ipynb",
      "private_outputs": true,
      "provenance": [],
      "authorship_tag": "ABX9TyOPeURrYEJ/EzA2B1qxgnIi",
      "include_colab_link": true
    },
    "kernelspec": {
      "name": "python3",
      "display_name": "Python 3"
    },
    "language_info": {
      "name": "python"
    }
  },
  "cells": [
    {
      "cell_type": "markdown",
      "metadata": {
        "id": "view-in-github",
        "colab_type": "text"
      },
      "source": [
        "<a href=\"https://colab.research.google.com/github/Elwing-Chou/ml0223/blob/main/plot.ipynb\" target=\"_parent\"><img src=\"https://colab.research.google.com/assets/colab-badge.svg\" alt=\"Open In Colab\"/></a>"
      ]
    },
    {
      "cell_type": "code",
      "metadata": {
        "id": "Ty5MWEPPkKon"
      },
      "source": [
        "# https://matplotlib.org/stable/api/_as_gen/matplotlib.pyplot.plot.html\n",
        "import numpy as np\n",
        "import matplotlib.pyplot as plt\n",
        "import seaborn as sns\n",
        "from sklearn.datasets import load_iris\n",
        "iris = load_iris()\n",
        "sl = iris[\"data\"][:, 0]\n",
        "pl = iris[\"data\"][:, 2]\n",
        "sns.scatterplot(sl, pl, hue=iris[\"target\"])\n",
        "xs = np.array([i for i in range(10)])\n",
        "ys = xs\n",
        "plt.plot(xs, ys, \".--r\")"
      ],
      "execution_count": null,
      "outputs": []
    }
  ]
}