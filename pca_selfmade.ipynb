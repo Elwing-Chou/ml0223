{
  "nbformat": 4,
  "nbformat_minor": 0,
  "metadata": {
    "colab": {
      "name": "pca_selfmade.ipynb",
      "provenance": []
    },
    "kernelspec": {
      "name": "python3",
      "display_name": "Python 3"
    }
  },
  "cells": [
    {
      "cell_type": "code",
      "metadata": {
        "id": "Ejj3Tz9CHYil",
        "colab": {
          "base_uri": "https://localhost:8080/"
        },
        "outputId": "c9feffbf-a584-4a9d-d9dd-18c527dbe0d7"
      },
      "source": [
        "# 準備一個測試的矩陣, 你可以當成三筆資料(兩個欄位)\n",
        "import numpy as np\n",
        "X = np.array([[1, 4, 5], \n",
        "        [4, 2, 8], \n",
        "        [5, 8, 3]])\n",
        "X"
      ],
      "execution_count": 42,
      "outputs": [
        {
          "output_type": "execute_result",
          "data": {
            "text/plain": [
              "array([[1, 4, 5],\n",
              "       [4, 2, 8],\n",
              "       [5, 8, 3]])"
            ]
          },
          "metadata": {
            "tags": []
          },
          "execution_count": 42
        }
      ]
    },
    {
      "cell_type": "code",
      "metadata": {
        "id": "gIMCgCUTNPkO",
        "colab": {
          "base_uri": "https://localhost:8080/"
        },
        "outputId": "0cf8fd63-d614-4705-f8b0-0a41af551151"
      },
      "source": [
        "# 先使用sklearn的PCA來看一下轉換的成果, 變成三筆資料(兩個欄位)\n",
        "from sklearn.decomposition import PCA\n",
        "pca = PCA(n_components=2)\n",
        "X_pca = pca.fit_transform(X)\n",
        "X_pca"
      ],
      "execution_count": 43,
      "outputs": [
        {
          "output_type": "execute_result",
          "data": {
            "text/plain": [
              "array([[-0.80537496,  2.31330309],\n",
              "       [-3.51815346, -1.51303103],\n",
              "       [ 4.32352842, -0.80027206]])"
            ]
          },
          "metadata": {
            "tags": []
          },
          "execution_count": 43
        }
      ]
    },
    {
      "cell_type": "code",
      "metadata": {
        "id": "lkRFiyf6UeNw",
        "colab": {
          "base_uri": "https://localhost:8080/"
        },
        "outputId": "48ac8620-8425-4e75-928b-742c5384060c"
      },
      "source": [
        "# 新的正交座標軸\n",
        "pca.components_"
      ],
      "execution_count": 44,
      "outputs": [
        {
          "output_type": "execute_result",
          "data": {
            "text/plain": [
              "array([[ 0.21248047,  0.76706308, -0.60536458],\n",
              "       [-0.93468378, -0.0211357 , -0.35485139]])"
            ]
          },
          "metadata": {
            "tags": []
          },
          "execution_count": 44
        }
      ]
    },
    {
      "cell_type": "code",
      "metadata": {
        "id": "F_iUXlwdaDDs",
        "colab": {
          "base_uri": "https://localhost:8080/"
        },
        "outputId": "bb3faeed-3aad-4f69-e0de-b6f0c14f9d83"
      },
      "source": [
        "# 我們自己來試一次, 記得要把平均移到0\n",
        "# 先求Conv\n",
        "newX = X - X.mean(axis=0)\n",
        "COV = np.cov(newX.T)\n",
        "COV"
      ],
      "execution_count": 45,
      "outputs": [
        {
          "output_type": "execute_result",
          "data": {
            "text/plain": [
              "array([[ 4.33333333,  2.66666667, -0.66666667],\n",
              "       [ 2.66666667,  9.33333333, -7.33333333],\n",
              "       [-0.66666667, -7.33333333,  6.33333333]])"
            ]
          },
          "metadata": {
            "tags": []
          },
          "execution_count": 45
        }
      ]
    },
    {
      "cell_type": "code",
      "metadata": {
        "id": "ta28d0Zlqvk0"
      },
      "source": [
        "# 使用特徵值分解分解成三個矩陣, 我把順序換得跟講義一樣\n",
        "from numpy import linalg as LA\n",
        "W, V = LA.eig(COV)\n",
        "Q_T, A, Q = V, np.diag(W), V.T"
      ],
      "execution_count": 46,
      "outputs": []
    },
    {
      "cell_type": "code",
      "metadata": {
        "colab": {
          "base_uri": "https://localhost:8080/"
        },
        "id": "RO31OymWy6zN",
        "outputId": "d48b0d31-beee-4e95-d55b-7a8c937e60c2"
      },
      "source": [
        "# eigen value\n",
        "W"
      ],
      "execution_count": 47,
      "outputs": [
        {
          "output_type": "execute_result",
          "data": {
            "text/plain": [
              "array([ 1.58594653e+01,  4.14053472e+00, -1.98793495e-15])"
            ]
          },
          "metadata": {
            "tags": []
          },
          "execution_count": 47
        }
      ]
    },
    {
      "cell_type": "code",
      "metadata": {
        "id": "BwwXWHolRMSq",
        "colab": {
          "base_uri": "https://localhost:8080/"
        },
        "outputId": "4fea30e4-6261-4701-850a-dba4b3ffc29b"
      },
      "source": [
        "# 你可以看到三個東西相乘起來就是我們的 COV\n",
        "Q_T.dot(A).dot(Q)"
      ],
      "execution_count": 48,
      "outputs": [
        {
          "output_type": "execute_result",
          "data": {
            "text/plain": [
              "array([[ 4.33333333,  2.66666667, -0.66666667],\n",
              "       [ 2.66666667,  9.33333333, -7.33333333],\n",
              "       [-0.66666667, -7.33333333,  6.33333333]])"
            ]
          },
          "metadata": {
            "tags": []
          },
          "execution_count": 48
        }
      ]
    },
    {
      "cell_type": "code",
      "metadata": {
        "id": "3T8w4mfSRjpW",
        "colab": {
          "base_uri": "https://localhost:8080/"
        },
        "outputId": "b0579568-a9b6-410f-ba51-90006d7ef477"
      },
      "source": [
        "# 利用係數取最大的兩個值, 你可以看到得到的兩個軸和sklearn得到的基本上是一樣的(只是方向相反而已)\n",
        "wq_pair = sorted(zip(W, Q), key=lambda x:x[0], reverse=True)\n",
        "Q_fil = np.array([v for w, v in wq_pair[:2]])\n",
        "Q_fil"
      ],
      "execution_count": 49,
      "outputs": [
        {
          "output_type": "execute_result",
          "data": {
            "text/plain": [
              "array([[-0.21248047, -0.76706308,  0.60536458],\n",
              "       [-0.93468378, -0.0211357 , -0.35485139]])"
            ]
          },
          "metadata": {
            "tags": []
          },
          "execution_count": 49
        }
      ]
    },
    {
      "cell_type": "code",
      "metadata": {
        "id": "TiP-a6WIZ2J_",
        "colab": {
          "base_uri": "https://localhost:8080/"
        },
        "outputId": "6bb7c50f-2e17-47bc-c80a-8ec939470d19"
      },
      "source": [
        "# 兩個軸是否正交\n",
        "Q_fil[0].dot(Q_fil[1])"
      ],
      "execution_count": 50,
      "outputs": [
        {
          "output_type": "execute_result",
          "data": {
            "text/plain": [
              "-3.0531133177191805e-16"
            ]
          },
          "metadata": {
            "tags": []
          },
          "execution_count": 50
        }
      ]
    },
    {
      "cell_type": "code",
      "metadata": {
        "id": "k49WU4XlWU6T",
        "colab": {
          "base_uri": "https://localhost:8080/"
        },
        "outputId": "a1100d5a-59ca-4421-deca-fe17c0815de6"
      },
      "source": [
        "# 轉換過後得到的值\n",
        "Q_fil.dot(newX.T).T"
      ],
      "execution_count": 51,
      "outputs": [
        {
          "output_type": "execute_result",
          "data": {
            "text/plain": [
              "array([[ 0.80537496,  2.31330309],\n",
              "       [ 3.51815346, -1.51303103],\n",
              "       [-4.32352842, -0.80027206]])"
            ]
          },
          "metadata": {
            "tags": []
          },
          "execution_count": 51
        }
      ]
    },
    {
      "cell_type": "code",
      "metadata": {
        "colab": {
          "base_uri": "https://localhost:8080/"
        },
        "id": "R94Usof6xVo0",
        "outputId": "9be74f31-c8bd-4b0e-c463-3b652f303b61"
      },
      "source": [
        "# 轉換回去\n",
        "newD = Q_fil.dot(newX.T).T\n",
        "Q_fil.T.dot(newD.T).T"
      ],
      "execution_count": 52,
      "outputs": [
        {
          "output_type": "execute_result",
          "data": {
            "text/plain": [
              "array([[-2.33333333, -0.66666667, -0.33333333],\n",
              "       [ 0.66666667, -2.66666667,  2.66666667],\n",
              "       [ 1.66666667,  3.33333333, -2.33333333]])"
            ]
          },
          "metadata": {
            "tags": []
          },
          "execution_count": 52
        }
      ]
    },
    {
      "cell_type": "code",
      "metadata": {
        "colab": {
          "base_uri": "https://localhost:8080/"
        },
        "id": "whvtKwWRysdf",
        "outputId": "a323fab1-e0b1-47cb-ae3f-934cdd03adad"
      },
      "source": [
        "# 驚訝的發現 根本沒掉太多\n",
        "newX"
      ],
      "execution_count": 53,
      "outputs": [
        {
          "output_type": "execute_result",
          "data": {
            "text/plain": [
              "array([[-2.33333333, -0.66666667, -0.33333333],\n",
              "       [ 0.66666667, -2.66666667,  2.66666667],\n",
              "       [ 1.66666667,  3.33333333, -2.33333333]])"
            ]
          },
          "metadata": {
            "tags": []
          },
          "execution_count": 53
        }
      ]
    },
    {
      "cell_type": "code",
      "metadata": {
        "colab": {
          "base_uri": "https://localhost:8080/"
        },
        "id": "jqIwUmXdwUw5",
        "outputId": "a79d4bca-776e-4033-e71b-f973fafd5f34"
      },
      "source": [
        "# 轉換過的資料在新的軸上的Cov\n",
        "np.cov(newD.T)"
      ],
      "execution_count": 54,
      "outputs": [
        {
          "output_type": "execute_result",
          "data": {
            "text/plain": [
              "array([[ 1.58594653e+01, -5.05449900e-16],\n",
              "       [-5.05449900e-16,  4.14053472e+00]])"
            ]
          },
          "metadata": {
            "tags": []
          },
          "execution_count": 54
        }
      ]
    },
    {
      "cell_type": "code",
      "metadata": {
        "colab": {
          "base_uri": "https://localhost:8080/",
          "height": 335
        },
        "id": "jmVun9_4zNaU",
        "outputId": "8f8ad398-d920-4ac5-a48d-2f912894eeb6"
      },
      "source": [
        "import matplotlib.pyplot as plt\n",
        "import seaborn as sns\n",
        "from sklearn.datasets import load_iris\n",
        "iris = load_iris()\n",
        "partial = iris[\"data\"][:,[0,2]]\n",
        "partial = partial - partial.mean(axis=0)\n",
        "sns.scatterplot(partial[:,0], partial[:,1])"
      ],
      "execution_count": 74,
      "outputs": [
        {
          "output_type": "stream",
          "text": [
            "/usr/local/lib/python3.6/dist-packages/seaborn/_decorators.py:43: FutureWarning: Pass the following variables as keyword args: x, y. From version 0.12, the only valid positional argument will be `data`, and passing other arguments without an explicit keyword will result in an error or misinterpretation.\n",
            "  FutureWarning\n"
          ],
          "name": "stderr"
        },
        {
          "output_type": "execute_result",
          "data": {
            "text/plain": [
              "<matplotlib.axes._subplots.AxesSubplot at 0x7f6054bb5dd8>"
            ]
          },
          "metadata": {
            "tags": []
          },
          "execution_count": 74
        },
        {
          "output_type": "display_data",
          "data": {
            "image/png": "[encoded data removed]",
            "text/plain": [
              "<Figure size 432x288 with 1 Axes>"
            ]
          },
          "metadata": {
            "tags": [],
            "needs_background": "light"
          }
        }
      ]
    },
    {
      "cell_type": "code",
      "metadata": {
        "colab": {
          "base_uri": "https://localhost:8080/",
          "height": 679
        },
        "id": "-myAuXg-zvrR",
        "outputId": "921445ae-56e0-4907-e98c-eb7911e28d9f"
      },
      "source": [
        "# 新的軸的長相\n",
        "from sklearn.decomposition import PCA\n",
        "pca = PCA(n_components=2)\n",
        "new = pca.fit_transform(iris[\"data\"][:, [0, 2]])\n",
        "axis = pca.components_\n",
        "plt.figure(figsize=(10, 10))\n",
        "sns.scatterplot(partial[:,0], partial[:,1])\n",
        "axes = plt.gca()\n",
        "axes.set_xlim([-5, 5])\n",
        "axes.set_ylim([-5, 5])\n",
        "for a in axis:\n",
        "    x, y = zip(-10 * a, 10 * a)\n",
        "    print(x, y)\n",
        "    plt.plot(x, y, \"4--r\")"
      ],
      "execution_count": 81,
      "outputs": [
        {
          "output_type": "stream",
          "text": [
            "(-3.936058516434886, 3.936058516434886) (-9.192793011658665, 9.192793011658665)\n",
            "(9.192793011658665, -9.192793011658665) (-3.936058516434886, 3.936058516434886)\n"
          ],
          "name": "stdout"
        },
        {
          "output_type": "stream",
          "text": [
            "/usr/local/lib/python3.6/dist-packages/seaborn/_decorators.py:43: FutureWarning: Pass the following variables as keyword args: x, y. From version 0.12, the only valid positional argument will be `data`, and passing other arguments without an explicit keyword will result in an error or misinterpretation.\n",
            "  FutureWarning\n"
          ],
          "name": "stderr"
        },
        {
          "output_type": "display_data",
          "data": {
            "image/png": "[encoded data removed]",
            "text/plain": [
              "<Figure size 720x720 with 1 Axes>"
            ]
          },
          "metadata": {
            "tags": [],
            "needs_background": "light"
          }
        }
      ]
    }
  ]
}