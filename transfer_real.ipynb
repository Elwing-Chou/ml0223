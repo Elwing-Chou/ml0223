{
  "nbformat": 4,
  "nbformat_minor": 0,
  "metadata": {
    "colab": {
      "name": "transfer_real.ipynb",
      "private_outputs": true,
      "provenance": [],
      "mount_file_id": "1mDRqoOdsGdYuLhwmH5oE3c9wySRuCCBd",
      "authorship_tag": "ABX9TyPjSmQWQVnYjBnlgrklxAPj",
      "include_colab_link": true
    },
    "kernelspec": {
      "name": "python3",
      "display_name": "Python 3"
    },
    "language_info": {
      "name": "python"
    },
    "accelerator": "GPU"
  },
  "cells": [
    {
      "cell_type": "markdown",
      "metadata": {
        "id": "view-in-github",
        "colab_type": "text"
      },
      "source": [
        "<a href=\"https://colab.research.google.com/github/Elwing-Chou/ml0223/blob/main/transfer_real.ipynb\" target=\"_parent\"><img src=\"https://colab.research.google.com/assets/colab-badge.svg\" alt=\"Open In Colab\"/></a>"
      ]
    },
    {
      "cell_type": "code",
      "metadata": {
        "id": "wTsSH__k5kHU"
      },
      "source": [
        "!pip install rarfile"
      ],
      "execution_count": null,
      "outputs": []
    },
    {
      "cell_type": "code",
      "metadata": {
        "id": "OzCBB59Wubo0"
      },
      "source": [
        "import rarfile\n",
        "path = \"./水獺.rar\"\n",
        "f = rarfile.RarFile(path)\n",
        "f.extractall()"
      ],
      "execution_count": null,
      "outputs": []
    },
    {
      "cell_type": "code",
      "metadata": {
        "id": "YQTAu8Qtv_QU"
      },
      "source": [
        "import glob\n",
        "from PIL import Image\n",
        "fs = glob.glob(\"水獺/*\")\n",
        "Image.open(fs[0]).resize((224, 224)).convert(\"RGB\")"
      ],
      "execution_count": null,
      "outputs": []
    },
    {
      "cell_type": "code",
      "metadata": {
        "id": "EzSW7oz_52wM"
      },
      "source": [
        "import rarfile\n",
        "path = \"./海狸.rar\"\n",
        "f = rarfile.RarFile(path)\n",
        "f.extractall()"
      ],
      "execution_count": null,
      "outputs": []
    },
    {
      "cell_type": "code",
      "metadata": {
        "id": "00UVb8_H68O5"
      },
      "source": [
        "import glob\n",
        "from PIL import Image\n",
        "fs = glob.glob(\"海狸/*\")\n",
        "Image.open(fs[0]).resize((224, 224)).convert(\"RGB\")"
      ],
      "execution_count": null,
      "outputs": []
    },
    {
      "cell_type": "code",
      "metadata": {
        "id": "5xSGI2fQxfeV"
      },
      "source": [
        "import pandas as pd\n",
        "dog = glob.glob(\"海狸/*\")\n",
        "cat = glob.glob(\"水獺/*\")\n",
        "datas = pd.DataFrame({\n",
        "    \"path\":dog + cat,\n",
        "    \"ans\":[0] * len(dog) + [1] * len(cat)\n",
        "})\n",
        "datas"
      ],
      "execution_count": null,
      "outputs": []
    },
    {
      "cell_type": "code",
      "metadata": {
        "id": "9A3tULM10mds"
      },
      "source": [
        "from tensorflow.keras.applications.vgg16 import VGG16\n",
        "vgg = VGG16(include_top=False, input_shape=(224, 224, 3))\n",
        "vgg.summary()"
      ],
      "execution_count": null,
      "outputs": []
    },
    {
      "cell_type": "code",
      "metadata": {
        "id": "XGq47QfG1Ovz"
      },
      "source": [
        "from tensorflow.keras.layers import Flatten, Dense, Dropout, BatchNormalization, GlobalAveragePooling2D\n",
        "from tensorflow.keras.models import Sequential\n",
        "# Trainbale + 1024 (Step2: 最優化)\n",
        "# Non + 1024 (Step1: 標準標準化)\n",
        "vgg_layers = vgg.layers\n",
        "for l in vgg_layers:\n",
        "    l.trainable = False\n",
        "clf_layers = [\n",
        "    BatchNormalization(),\n",
        "    GlobalAveragePooling2D(),\n",
        "    Dense(2, activation=\"softmax\")\n",
        "]\n",
        "model = Sequential(vgg_layers + clf_layers)\n",
        "model.summary()"
      ],
      "execution_count": null,
      "outputs": []
    },
    {
      "cell_type": "code",
      "metadata": {
        "id": "7p4-OdPp33VO"
      },
      "source": [
        "from tensorflow.keras.losses import SparseCategoricalCrossentropy\n",
        "model.compile(loss=SparseCategoricalCrossentropy(), \n",
        "       optimizer=\"adam\",\n",
        "       metrics=[\"accuracy\"])"
      ],
      "execution_count": null,
      "outputs": []
    },
    {
      "cell_type": "code",
      "metadata": {
        "id": "TOEC7IRN1bAo"
      },
      "source": [
        "from sklearn.model_selection import train_test_split\n",
        "x, y = np.array(datas[\"path\"]), np.array(datas[\"ans\"])\n",
        "x, x_test, y, y_test = train_test_split(x, y, test_size=0.05)"
      ],
      "execution_count": null,
      "outputs": []
    },
    {
      "cell_type": "code",
      "metadata": {
        "id": "mi3gzQf28_UV"
      },
      "source": [
        "print(x.shape)\n",
        "print(x_test.shape)\n",
        "print(y.shape)\n",
        "print(y_test.shape)"
      ],
      "execution_count": null,
      "outputs": []
    },
    {
      "cell_type": "code",
      "metadata": {
        "id": "7U5qye7IzaTy"
      },
      "source": [
        "def get_data(x, y, batch=20):\n",
        "    idx = np.random.randint(0, len(x), size=batch)\n",
        "    y_batch = []\n",
        "    x_batch, x_batch_ori = [], []\n",
        "    for i in idx:\n",
        "        try:\n",
        "            p = x[i]\n",
        "            img = Image.open(p).resize((224, 224)).convert(\"RGB\")\n",
        "            img_np = np.array(img) \n",
        "            img_np_pre = preprocess_input(img_np)\n",
        "            x_batch.append(img_np_pre)\n",
        "            x_batch_ori.append(img_np)\n",
        "            y_batch.append(y[i])\n",
        "        except:\n",
        "            pass\n",
        "    return (np.array(x_batch), np.array(y_batch), np.array(x_batch_ori))\n",
        "x_batch, y_batch, x_batch_ori = get_data(x, y)\n",
        "print(x_batch.shape)\n",
        "print(y_batch.shape)\n",
        "print(x_batch_ori.shape)"
      ],
      "execution_count": null,
      "outputs": []
    },
    {
      "cell_type": "code",
      "metadata": {
        "id": "QVefTs1S4N1c"
      },
      "source": [
        "for i in range(20):\n",
        "    print(\"-\" * 15, i, \"-\" * 15)\n",
        "    x_batch, y_batch, x_batch_ori = get_data(x, y)\n",
        "    result = model.train_on_batch(x_batch, y_batch)\n",
        "    print(\"[Train]:\", result)\n",
        "    x_batch, y_batch, x_batch_ori = get_data(x, y)\n",
        "    result = model.test_on_batch(x_batch, y_batch)\n",
        "    print(\"[Validate]:\", result)"
      ],
      "execution_count": null,
      "outputs": []
    },
    {
      "cell_type": "code",
      "metadata": {
        "id": "OyxYX-up9QmJ"
      },
      "source": [
        "x_batch, y_batch, x_batch_ori = get_data(x_test, y_test, 50)\n",
        "model.evaluate(x_batch, y_batch)"
      ],
      "execution_count": null,
      "outputs": []
    },
    {
      "cell_type": "code",
      "metadata": {
        "id": "ejSQ3sRKsXip"
      },
      "source": [
        "import numpy as np\n",
        "import matplotlib.pyplot as plt\n",
        "\n",
        "pre = model.predict_classes(x_batch)\n",
        "trans = [\"sea\", \"water\"]\n",
        "idx = np.nonzero(pre != y_batch)[0][:200]\n",
        "false_img = x_batch_ori[idx]\n",
        "false_pre = pre[idx]\n",
        "false_label = y_batch[idx]\n",
        "plt.figure(figsize=(14, 14))\n",
        "width = 10\n",
        "height = len(idx) // width + 1\n",
        "for i in range(len(idx)):\n",
        "    plt.subplot(height, width, i+1)\n",
        "    t = \"[O]:{}\\n[P]:{}\".format(trans[false_label[i]], trans[false_pre[i]])\n",
        "    plt.title(t)\n",
        "    plt.axis(\"off\")\n",
        "    plt.imshow(false_img[i])"
      ],
      "execution_count": null,
      "outputs": []
    },
    {
      "cell_type": "code",
      "metadata": {
        "id": "S8Jf_sQdxHif"
      },
      "source": [
        "# Pillow\n",
        "import requests\n",
        "from PIL import Image\n",
        "# RGB, RGBA, L(gray)\n",
        "url = input(\"url:\")\n",
        "headers = {\n",
        "  \"user-agent\":\"user-agent: Mozilla/5.0 (Windows NT 10.0; Win64; x64) AppleWebKit/537.36 (KHTML, like Gecko) Chrome/89.0.4389.90 Safari/537.36\"  \n",
        "}\n",
        "response = requests.get(url, headers=headers, stream=True, verify=False)\n",
        "img = Image.open(response.raw).resize((224, 224)).convert(\"RGB\")\n",
        "img_np = np.array(img)\n",
        "img_np_r = preprocess_input(img_np.reshape(1, 224, 224, 3))\n",
        "proba = model.predict(img_np_r)[0]\n",
        "for i, p in enumerate(proba):\n",
        "    print(trans[i], \"的機率:\", p)\n",
        "ans = model.predict_classes(img_np_r)[0]\n",
        "print(\"答案:\", trans[ans])\n",
        "plt.imshow(img_np)"
      ],
      "execution_count": null,
      "outputs": []
    }
  ]
}