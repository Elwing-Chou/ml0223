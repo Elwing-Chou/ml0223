{
  "nbformat": 4,
  "nbformat_minor": 0,
  "metadata": {
    "colab": {
      "name": "cnn_res.ipynb",
      "private_outputs": true,
      "provenance": [],
      "authorship_tag": "ABX9TyPV+GJ5JkYx/H8Guu/7zqLc",
      "include_colab_link": true
    },
    "kernelspec": {
      "name": "python3",
      "display_name": "Python 3"
    },
    "language_info": {
      "name": "python"
    }
  },
  "cells": [
    {
      "cell_type": "markdown",
      "metadata": {
        "id": "view-in-github",
        "colab_type": "text"
      },
      "source": [
        "<a href=\"https://colab.research.google.com/github/Elwing-Chou/ml0223/blob/main/cnn_res.ipynb\" target=\"_parent\"><img src=\"https://colab.research.google.com/assets/colab-badge.svg\" alt=\"Open In Colab\"/></a>"
      ]
    },
    {
      "cell_type": "code",
      "metadata": {
        "id": "g-LrFBR14SP-"
      },
      "source": [
        "from tensorflow.keras.applications.resnet50 import ResNet50\n",
        "cnn = ResNet50(include_top=False, input_shape=(224, 224, 3))\n",
        "cnn.summary()"
      ],
      "execution_count": null,
      "outputs": []
    },
    {
      "cell_type": "code",
      "metadata": {
        "id": "vxvrm1Xm4eYf"
      },
      "source": [
        "from tensorflow.keras.utils import plot_model\n",
        "plot_model(cnn, to_file=\"resv1.png\", show_shapes=True)"
      ],
      "execution_count": null,
      "outputs": []
    },
    {
      "cell_type": "code",
      "metadata": {
        "id": "ouW5MFy_F3Df"
      },
      "source": [
        "from tensorflow.keras.applications.resnet_v2 import ResNet50V2\n",
        "cnn = ResNet50V2(include_top=False, input_shape=(224, 224, 3))\n",
        "cnn.summary()"
      ],
      "execution_count": null,
      "outputs": []
    },
    {
      "cell_type": "code",
      "metadata": {
        "id": "bOjT_BZ-KXJu"
      },
      "source": [
        "from tensorflow.keras.utils import plot_model\n",
        "plot_model(cnn, to_file=\"res.png\", show_shapes=True)"
      ],
      "execution_count": null,
      "outputs": []
    },
    {
      "cell_type": "code",
      "metadata": {
        "id": "gn4izFFPJ-MB"
      },
      "source": [
        "print(len(cnn.layers))"
      ],
      "execution_count": null,
      "outputs": []
    },
    {
      "cell_type": "code",
      "metadata": {
        "id": "U02LCXH-R36d"
      },
      "source": [
        "# 1 * 1 加的時候通道樹要一樣 (目標256)\n",
        "w = cnn.get_layer(\"conv2_block1_0_conv\").get_weights()\n",
        "w[0].shape"
      ],
      "execution_count": null,
      "outputs": []
    },
    {
      "cell_type": "code",
      "metadata": {
        "id": "J9YstsatTmoh"
      },
      "source": [
        "# 3 *  = 1 * 1 -> 3 * 3 -> 1 * 1\n",
        "w = cnn.get_layer(\"conv2_block1_1_conv\").get_weights()\n",
        "print(w[0].shape)\n",
        "w = cnn.get_layer(\"conv2_block1_2_conv\").get_weights()\n",
        "print(w[0].shape)\n",
        "w = cnn.get_layer(\"conv2_block1_3_conv\").get_weights()\n",
        "print(w[0].shape)"
      ],
      "execution_count": null,
      "outputs": []
    },
    {
      "cell_type": "code",
      "metadata": {
        "id": "V0A7aQ2k7Leh"
      },
      "source": [
        "from tensorflow.keras.models import Model\n",
        "from tensorflow.keras.layers import Conv2D, Add, Input\n",
        "\n",
        "i = Input(shape=(56, 56, 64))\n",
        "# 1\n",
        "x1 = Conv2D(256, 1, padding=\"same\", name=\"line1\")(i)\n",
        "# 2\n",
        "x2 = Conv2D(64, 1, activation=\"relu\", name=\"line2_1\")(i)\n",
        "x2 = Conv2D(64, 3, activation=\"relu\", padding=\"same\", name=\"line2_2\")(x2)\n",
        "x2 = Conv2D(256, 1, name=\"line2_3\")(x2)\n",
        "# +\n",
        "out = Add()([x1, x2])\n",
        "temp = Model(inputs=i, outputs=out)\n",
        "temp.summary()"
      ],
      "execution_count": null,
      "outputs": []
    },
    {
      "cell_type": "code",
      "metadata": {
        "id": "qT1njny89ufV"
      },
      "source": [
        "# 3 *  = 1 * 1 -> 3 * 3 -> 1 * 1\n",
        "w = cnn.get_layer(\"conv2_block2_1_conv\").get_weights()\n",
        "print(w[0].shape)\n",
        "w = cnn.get_layer(\"conv2_block2_2_conv\").get_weights()\n",
        "print(w[0].shape)\n",
        "w = cnn.get_layer(\"conv2_block2_3_conv\").get_weights()\n",
        "print(w[0].shape)"
      ],
      "execution_count": null,
      "outputs": []
    }
  ]
}